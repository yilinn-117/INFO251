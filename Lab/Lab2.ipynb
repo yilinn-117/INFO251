{
 "cells": [
  {
   "cell_type": "markdown",
   "metadata": {},
   "source": [
    "# Lab 2 - Regression, DiD, and Fixed Effects\n",
    "- **Author:** Suraj R. Nair ([suraj.nair@berkeley.edu](mailto:suraj.nair@berkeley.edu)) (based on past labs by Emily Aiken, Qutub Khan Vajihi and Dimitris Papadimitriou)\n",
    "- **Date:** February 24, 2024\n",
    "- **Course:** INFO 251: Applied machine learning"
   ]
  },
  {
   "cell_type": "markdown",
   "metadata": {},
   "source": [
    "### Topics:\n",
    "1. Linear/ Multivariate Regression\n",
    "2. Dummy variables\n",
    "3. Exercises"
   ]
  },
  {
   "cell_type": "markdown",
   "metadata": {},
   "source": [
    "### References: \n",
    " * [Statsmodels](http://www.statsmodels.org/stable/example_formulas.html#loading-modules-and-functions) \n",
    " * [Interpreting regression coefficients](https://dss.princeton.edu/online_help/analysis/interpreting_regression.htm)\n",
    " * [Card and Krueger (1994)](https://davidcard.berkeley.edu/papers/njmin-aer.pdf)\n",
    " * Fixed Effects:\n",
    "      - [Panel Data and Fixed Effects in Python](https://matheusfacure.github.io/python-causality-handbook/14-Panel-Data-and-Fixed-Effects.html)\n",
    "      - [Notes](https://www.jblumenstock.com/files/courses/econ174/FEModels.pdf) on fixed effects"
   ]
  },
  {
   "cell_type": "markdown",
   "metadata": {},
   "source": [
    "### Import libraries"
   ]
  },
  {
   "cell_type": "code",
   "execution_count": 1,
   "metadata": {
    "tags": []
   },
   "outputs": [],
   "source": [
    "# Standard imports\n",
    "import pandas as pd\n",
    "import numpy as np\n",
    "import matplotlib.pyplot as plt \n",
    "import seaborn as sns\n",
    "%matplotlib inline  \n",
    "\n",
    "# The packages you'll need for regression models\n",
    "import statsmodels.api as sm\n",
    "import statsmodels.formula.api as smf"
   ]
  },
  {
   "cell_type": "markdown",
   "metadata": {},
   "source": [
    "### 1. Load the data\n",
    "\n",
    "Card and Krueger (1994) collected survey data on employment in fast food restaurants in New Jersey and Pennsylvania in 1992. The data for today's lab uses a subset of the variables they collected.\n",
    "\n",
    "- *UNIQUE_ID*: Unique ID for the restaurant interviewed\n",
    "- *PERIOD*: 0 for pre-period (March 1994), 1 for post-period (December 1994)\n",
    "- *STATE*: 0 for Pennsylvania, 1 for New Jersey\n",
    "- *REGION*: Region code: 1 = Southern NJ, 2 = Central NJ, 3 = Northern NJ, 4 = Northeast Philly suburbs, 5 = Easton area, 6 = NJ Shore\n",
    "- *CHAIN*: Chain restaurant code: 1 = Burger King, 2 = KFC, 3 = Roy's, 4 = Wendy's\n",
    "- *EMP*: Number of employees (fulltime or parttime)\n",
    "- *CO_OWNED*: 1 if company-owned\n",
    "- *BONUS*: 1 if employees get a signing bonus\n",
    "- *HRSOPEN*: Hours open per day, up to 24\n",
    "- *NREGS*: Number of registers"
   ]
  },
  {
   "cell_type": "code",
   "execution_count": 2,
   "metadata": {
    "tags": []
   },
   "outputs": [
    {
     "data": {
      "text/html": [
       "<div>\n",
       "<style scoped>\n",
       "    .dataframe tbody tr th:only-of-type {\n",
       "        vertical-align: middle;\n",
       "    }\n",
       "\n",
       "    .dataframe tbody tr th {\n",
       "        vertical-align: top;\n",
       "    }\n",
       "\n",
       "    .dataframe thead th {\n",
       "        text-align: right;\n",
       "    }\n",
       "</style>\n",
       "<table border=\"1\" class=\"dataframe\">\n",
       "  <thead>\n",
       "    <tr style=\"text-align: right;\">\n",
       "      <th></th>\n",
       "      <th>UNIQUE_ID</th>\n",
       "      <th>PERIOD</th>\n",
       "      <th>STATE</th>\n",
       "      <th>REGION</th>\n",
       "      <th>CHAIN</th>\n",
       "      <th>EMP</th>\n",
       "      <th>CO_OWNED</th>\n",
       "      <th>BONUS</th>\n",
       "      <th>HRSOPEN</th>\n",
       "      <th>NREGS</th>\n",
       "    </tr>\n",
       "  </thead>\n",
       "  <tbody>\n",
       "    <tr>\n",
       "      <th>0</th>\n",
       "      <td>46.0</td>\n",
       "      <td>0</td>\n",
       "      <td>0.0</td>\n",
       "      <td>4</td>\n",
       "      <td>1.0</td>\n",
       "      <td>45.0</td>\n",
       "      <td>0.0</td>\n",
       "      <td>1.0</td>\n",
       "      <td>16.5</td>\n",
       "      <td>3.0</td>\n",
       "    </tr>\n",
       "    <tr>\n",
       "      <th>1</th>\n",
       "      <td>49.0</td>\n",
       "      <td>0</td>\n",
       "      <td>0.0</td>\n",
       "      <td>4</td>\n",
       "      <td>2.0</td>\n",
       "      <td>13.0</td>\n",
       "      <td>0.0</td>\n",
       "      <td>0.0</td>\n",
       "      <td>13.0</td>\n",
       "      <td>4.0</td>\n",
       "    </tr>\n",
       "    <tr>\n",
       "      <th>2</th>\n",
       "      <td>506.0</td>\n",
       "      <td>0</td>\n",
       "      <td>0.0</td>\n",
       "      <td>4</td>\n",
       "      <td>2.0</td>\n",
       "      <td>10.0</td>\n",
       "      <td>1.0</td>\n",
       "      <td>0.0</td>\n",
       "      <td>10.0</td>\n",
       "      <td>3.0</td>\n",
       "    </tr>\n",
       "    <tr>\n",
       "      <th>3</th>\n",
       "      <td>56.0</td>\n",
       "      <td>0</td>\n",
       "      <td>0.0</td>\n",
       "      <td>4</td>\n",
       "      <td>4.0</td>\n",
       "      <td>40.0</td>\n",
       "      <td>1.0</td>\n",
       "      <td>1.0</td>\n",
       "      <td>12.0</td>\n",
       "      <td>2.0</td>\n",
       "    </tr>\n",
       "    <tr>\n",
       "      <th>4</th>\n",
       "      <td>61.0</td>\n",
       "      <td>0</td>\n",
       "      <td>0.0</td>\n",
       "      <td>4</td>\n",
       "      <td>4.0</td>\n",
       "      <td>32.0</td>\n",
       "      <td>1.0</td>\n",
       "      <td>1.0</td>\n",
       "      <td>12.0</td>\n",
       "      <td>2.0</td>\n",
       "    </tr>\n",
       "  </tbody>\n",
       "</table>\n",
       "</div>"
      ],
      "text/plain": [
       "   UNIQUE_ID  PERIOD  STATE  REGION  CHAIN   EMP  CO_OWNED  BONUS  HRSOPEN  \\\n",
       "0       46.0       0    0.0       4    1.0  45.0       0.0    1.0     16.5   \n",
       "1       49.0       0    0.0       4    2.0  13.0       0.0    0.0     13.0   \n",
       "2      506.0       0    0.0       4    2.0  10.0       1.0    0.0     10.0   \n",
       "3       56.0       0    0.0       4    4.0  40.0       1.0    1.0     12.0   \n",
       "4       61.0       0    0.0       4    4.0  32.0       1.0    1.0     12.0   \n",
       "\n",
       "   NREGS  \n",
       "0    3.0  \n",
       "1    4.0  \n",
       "2    3.0  \n",
       "3    2.0  \n",
       "4    2.0  "
      ]
     },
     "execution_count": 2,
     "metadata": {},
     "output_type": "execute_result"
    }
   ],
   "source": [
    "df = pd.read_csv('fastfood.csv')\n",
    "df.head()"
   ]
  },
  {
   "cell_type": "code",
   "execution_count": 3,
   "metadata": {
    "tags": []
   },
   "outputs": [
    {
     "data": {
      "text/html": [
       "<div>\n",
       "<style scoped>\n",
       "    .dataframe tbody tr th:only-of-type {\n",
       "        vertical-align: middle;\n",
       "    }\n",
       "\n",
       "    .dataframe tbody tr th {\n",
       "        vertical-align: top;\n",
       "    }\n",
       "\n",
       "    .dataframe thead th {\n",
       "        text-align: right;\n",
       "    }\n",
       "</style>\n",
       "<table border=\"1\" class=\"dataframe\">\n",
       "  <thead>\n",
       "    <tr style=\"text-align: right;\">\n",
       "      <th></th>\n",
       "      <th>UNIQUE_ID</th>\n",
       "      <th>PERIOD</th>\n",
       "      <th>STATE</th>\n",
       "      <th>REGION</th>\n",
       "      <th>CHAIN</th>\n",
       "      <th>EMP</th>\n",
       "      <th>CO_OWNED</th>\n",
       "      <th>BONUS</th>\n",
       "      <th>HRSOPEN</th>\n",
       "      <th>NREGS</th>\n",
       "    </tr>\n",
       "  </thead>\n",
       "  <tbody>\n",
       "    <tr>\n",
       "      <th>785</th>\n",
       "      <td>423.0</td>\n",
       "      <td>1</td>\n",
       "      <td>1.0</td>\n",
       "      <td>3</td>\n",
       "      <td>2.0</td>\n",
       "      <td>22.5</td>\n",
       "      <td>1.0</td>\n",
       "      <td>1.0</td>\n",
       "      <td>12.0</td>\n",
       "      <td>3.0</td>\n",
       "    </tr>\n",
       "    <tr>\n",
       "      <th>786</th>\n",
       "      <td>424.0</td>\n",
       "      <td>1</td>\n",
       "      <td>1.0</td>\n",
       "      <td>3</td>\n",
       "      <td>2.0</td>\n",
       "      <td>15.0</td>\n",
       "      <td>1.0</td>\n",
       "      <td>0.0</td>\n",
       "      <td>11.0</td>\n",
       "      <td>5.0</td>\n",
       "    </tr>\n",
       "    <tr>\n",
       "      <th>787</th>\n",
       "      <td>426.0</td>\n",
       "      <td>1</td>\n",
       "      <td>1.0</td>\n",
       "      <td>3</td>\n",
       "      <td>3.0</td>\n",
       "      <td>30.0</td>\n",
       "      <td>1.0</td>\n",
       "      <td>0.0</td>\n",
       "      <td>19.0</td>\n",
       "      <td>5.0</td>\n",
       "    </tr>\n",
       "    <tr>\n",
       "      <th>788</th>\n",
       "      <td>427.0</td>\n",
       "      <td>1</td>\n",
       "      <td>1.0</td>\n",
       "      <td>3</td>\n",
       "      <td>4.0</td>\n",
       "      <td>35.0</td>\n",
       "      <td>0.0</td>\n",
       "      <td>0.0</td>\n",
       "      <td>12.5</td>\n",
       "      <td>2.0</td>\n",
       "    </tr>\n",
       "    <tr>\n",
       "      <th>789</th>\n",
       "      <td>428.0</td>\n",
       "      <td>1</td>\n",
       "      <td>1.0</td>\n",
       "      <td>3</td>\n",
       "      <td>4.0</td>\n",
       "      <td>34.0</td>\n",
       "      <td>0.0</td>\n",
       "      <td>0.0</td>\n",
       "      <td>12.5</td>\n",
       "      <td>2.0</td>\n",
       "    </tr>\n",
       "  </tbody>\n",
       "</table>\n",
       "</div>"
      ],
      "text/plain": [
       "     UNIQUE_ID  PERIOD  STATE  REGION  CHAIN   EMP  CO_OWNED  BONUS  HRSOPEN  \\\n",
       "785      423.0       1    1.0       3    2.0  22.5       1.0    1.0     12.0   \n",
       "786      424.0       1    1.0       3    2.0  15.0       1.0    0.0     11.0   \n",
       "787      426.0       1    1.0       3    3.0  30.0       1.0    0.0     19.0   \n",
       "788      427.0       1    1.0       3    4.0  35.0       0.0    0.0     12.5   \n",
       "789      428.0       1    1.0       3    4.0  34.0       0.0    0.0     12.5   \n",
       "\n",
       "     NREGS  \n",
       "785    3.0  \n",
       "786    5.0  \n",
       "787    5.0  \n",
       "788    2.0  \n",
       "789    2.0  "
      ]
     },
     "execution_count": 3,
     "metadata": {},
     "output_type": "execute_result"
    }
   ],
   "source": [
    "df.tail()"
   ]
  },
  {
   "cell_type": "code",
   "execution_count": 4,
   "metadata": {
    "tags": []
   },
   "outputs": [],
   "source": [
    "#Create a variable identifying the pre-treatment period\n",
    "pre = df[df['PERIOD'] == 0].copy()\n",
    "post = df[df['PERIOD'] == 1].copy()"
   ]
  },
  {
   "cell_type": "markdown",
   "metadata": {},
   "source": [
    "### 2. Univariate Regression\n",
    "\n",
    "Linear regression provides us a concise summary of one variable as a function of another variables(s) through two types of parameters - the slope and the intercept. To review linear regression, we'll start by exploring the relationship between employment and the number of hours a restaurant is open\n",
    "in the pre-period.\n",
    "\n",
    "#### 2.1 Exploratory analysis"
   ]
  },
  {
   "cell_type": "code",
   "execution_count": 5,
   "metadata": {
    "tags": []
   },
   "outputs": [
    {
     "data": {
      "text/plain": [
       "0.5607581039654647"
      ]
     },
     "execution_count": 5,
     "metadata": {},
     "output_type": "execute_result"
    }
   ],
   "source": [
    "# Find the correlation between number of rooms and median housing price.\n",
    "np.corrcoef(pre['HRSOPEN'], pre['EMP'])[0][1]\n",
    "\n",
    "#Pandas also has a built correlation function\n",
    "# pre[['HRSOPEN', 'EMP']].corr()"
   ]
  },
  {
   "cell_type": "code",
   "execution_count": 6,
   "metadata": {
    "tags": []
   },
   "outputs": [
    {
     "data": {
      "image/png": "[encoded data removed]",
      "text/plain": [
       "<Figure size 800x500 with 1 Axes>"
      ]
     },
     "metadata": {},
     "output_type": "display_data"
    }
   ],
   "source": [
    "fig = plt.figure(figsize=(8, 5))\n",
    "plt.scatter(pre['HRSOPEN'], pre['EMP'], alpha=.2)\n",
    "plt.xlabel('Daily Hours Open', fontsize='large')\n",
    "plt.ylabel('Number of Employees', fontsize='large')\n",
    "plt.title('Hours Open vs. Employees', fontsize='x-large')\n",
    "plt.xlim(6.9, 24.1)\n",
    "sns.despine()\n",
    "plt.show()"
   ]
  },
  {
   "cell_type": "markdown",
   "metadata": {},
   "source": [
    "#### 2.2 Estimating a regression with np.polyfit"
   ]
  },
  {
   "cell_type": "code",
   "execution_count": 7,
   "metadata": {
    "tags": []
   },
   "outputs": [
    {
     "data": {
      "image/png": "[encoded data removed]",
      "text/plain": [
       "<Figure size 800x500 with 1 Axes>"
      ]
     },
     "metadata": {},
     "output_type": "display_data"
    }
   ],
   "source": [
    "# Estimate the regression\n",
    "x, y = pre['HRSOPEN'].values, pre['EMP'].values # x is the input variable, y is the output variable\n",
    "slope, intercept = np.polyfit(x, y, 1) # 1 is the degree\n",
    "\n",
    "# Scatterplot with the regression line\n",
    "fig = plt.figure(figsize=(8, 5))\n",
    "plt.scatter(pre['HRSOPEN'], pre['EMP'], alpha=.2)\n",
    "plt.plot(x, slope*x + intercept, color='darkgrey')\n",
    "plt.xlabel('Daily Hours Open', fontsize='large')\n",
    "plt.ylabel('Number of Employees', fontsize='large')\n",
    "plt.title('Hours Open vs. Employees', fontsize='x-large')\n",
    "plt.xlim(6.9, 24.1)\n",
    "sns.despine()\n",
    "plt.show()"
   ]
  },
  {
   "cell_type": "markdown",
   "metadata": {},
   "source": [
    "#### 2.3 Interpretation of the slope and intercept"
   ]
  },
  {
   "cell_type": "code",
   "execution_count": 8,
   "metadata": {
    "tags": []
   },
   "outputs": [
    {
     "name": "stdout",
     "output_type": "stream",
     "text": [
      "The slope of the line is 2.466\n"
     ]
    }
   ],
   "source": [
    "print(f'The slope of the line is {np.round(slope, 3)}')"
   ]
  },
  {
   "cell_type": "markdown",
   "metadata": {},
   "source": [
    "**Question**: How would you interpret this value?"
   ]
  },
  {
   "cell_type": "code",
   "execution_count": 9,
   "metadata": {
    "tags": []
   },
   "outputs": [
    {
     "name": "stdout",
     "output_type": "stream",
     "text": [
      "The intercept of the line is -8.628\n"
     ]
    }
   ],
   "source": [
    "print(f'The intercept of the line is {np.round(intercept, 3)}')"
   ]
  },
  {
   "cell_type": "markdown",
   "metadata": {},
   "source": [
    "**Question**: How would you interpret this value?"
   ]
  },
  {
   "cell_type": "markdown",
   "metadata": {},
   "source": [
    "#### 2.4 Estimating a regression with statsmodels"
   ]
  },
  {
   "cell_type": "code",
   "execution_count": 10,
   "metadata": {
    "tags": []
   },
   "outputs": [
    {
     "name": "stdout",
     "output_type": "stream",
     "text": [
      "                            OLS Regression Results                            \n",
      "==============================================================================\n",
      "Dep. Variable:                      y   R-squared:                       0.314\n",
      "Model:                            OLS   Adj. R-squared:                  0.313\n",
      "Method:                 Least Squares   F-statistic:                     182.1\n",
      "Date:                Thu, 01 Feb 2024   Prob (F-statistic):           2.02e-34\n",
      "Time:                        15:55:31   Log-Likelihood:                -1494.8\n",
      "No. Observations:                 399   AIC:                             2994.\n",
      "Df Residuals:                     397   BIC:                             3002.\n",
      "Df Model:                           1                                         \n",
      "Covariance Type:            nonrobust                                         \n",
      "==============================================================================\n",
      "                 coef    std err          t      P>|t|      [0.025      0.975]\n",
      "------------------------------------------------------------------------------\n",
      "const         -8.6277      2.689     -3.209      0.001     -13.913      -3.342\n",
      "x1             2.4657      0.183     13.494      0.000       2.106       2.825\n",
      "==============================================================================\n",
      "Omnibus:                      118.371   Durbin-Watson:                   1.800\n",
      "Prob(Omnibus):                  0.000   Jarque-Bera (JB):              360.673\n",
      "Skew:                           1.364   Prob(JB):                     4.79e-79\n",
      "Kurtosis:                       6.775   Cond. No.                         77.2\n",
      "==============================================================================\n",
      "\n",
      "Notes:\n",
      "[1] Standard Errors assume that the covariance matrix of the errors is correctly specified.\n"
     ]
    }
   ],
   "source": [
    "# Syntax option 1\n",
    "x, y = pre['HRSOPEN'].values, pre['EMP'].values # x is the input variable, y is the output variable\n",
    "x = sm.add_constant(x) # Add a constant for the intercept term\n",
    "model1 = sm.OLS(y, x).fit() # Note the order of y folowed by x!\n",
    "print(model1.summary())"
   ]
  },
  {
   "cell_type": "code",
   "execution_count": 11,
   "metadata": {
    "tags": []
   },
   "outputs": [
    {
     "name": "stdout",
     "output_type": "stream",
     "text": [
      "                            OLS Regression Results                            \n",
      "==============================================================================\n",
      "Dep. Variable:                    EMP   R-squared:                       0.314\n",
      "Model:                            OLS   Adj. R-squared:                  0.313\n",
      "Method:                 Least Squares   F-statistic:                     182.1\n",
      "Date:                Thu, 01 Feb 2024   Prob (F-statistic):           2.02e-34\n",
      "Time:                        15:55:31   Log-Likelihood:                -1494.8\n",
      "No. Observations:                 399   AIC:                             2994.\n",
      "Df Residuals:                     397   BIC:                             3002.\n",
      "Df Model:                           1                                         \n",
      "Covariance Type:            nonrobust                                         \n",
      "==============================================================================\n",
      "                 coef    std err          t      P>|t|      [0.025      0.975]\n",
      "------------------------------------------------------------------------------\n",
      "Intercept     -8.6277      2.689     -3.209      0.001     -13.913      -3.342\n",
      "HRSOPEN        2.4657      0.183     13.494      0.000       2.106       2.825\n",
      "==============================================================================\n",
      "Omnibus:                      118.371   Durbin-Watson:                   1.800\n",
      "Prob(Omnibus):                  0.000   Jarque-Bera (JB):              360.673\n",
      "Skew:                           1.364   Prob(JB):                     4.79e-79\n",
      "Kurtosis:                       6.775   Cond. No.                         77.2\n",
      "==============================================================================\n",
      "\n",
      "Notes:\n",
      "[1] Standard Errors assume that the covariance matrix of the errors is correctly specified.\n"
     ]
    }
   ],
   "source": [
    "# Syntax option 2\n",
    "model2 = smf.ols(formula='EMP ~ HRSOPEN', data=pre).fit() # Automatically includes the intercept term\n",
    "print(model2.summary())"
   ]
  },
  {
   "cell_type": "markdown",
   "metadata": {},
   "source": [
    "### 2. Categorical Data\n",
    "\n",
    "Now, we'll experiment with categorical data by examining the relationship between EMPTOT (the number of employees) and CHAIN (the fast food chain category) in the pre-period."
   ]
  },
  {
   "cell_type": "code",
   "execution_count": 12,
   "metadata": {
    "tags": []
   },
   "outputs": [
    {
     "data": {
      "text/plain": [
       "1.0    166\n",
       "3.0     98\n",
       "2.0     78\n",
       "4.0     57\n",
       "Name: CHAIN, dtype: int64"
      ]
     },
     "execution_count": 12,
     "metadata": {},
     "output_type": "execute_result"
    }
   ],
   "source": [
    "# Check values of CHAIN\n",
    "pre['CHAIN'].value_counts()"
   ]
  },
  {
   "cell_type": "code",
   "execution_count": 13,
   "metadata": {
    "tags": []
   },
   "outputs": [
    {
     "data": {
      "text/html": [
       "<div>\n",
       "<style scoped>\n",
       "    .dataframe tbody tr th:only-of-type {\n",
       "        vertical-align: middle;\n",
       "    }\n",
       "\n",
       "    .dataframe tbody tr th {\n",
       "        vertical-align: top;\n",
       "    }\n",
       "\n",
       "    .dataframe thead th {\n",
       "        text-align: right;\n",
       "    }\n",
       "</style>\n",
       "<table border=\"1\" class=\"dataframe\">\n",
       "  <thead>\n",
       "    <tr style=\"text-align: right;\">\n",
       "      <th></th>\n",
       "      <th>UNIQUE_ID</th>\n",
       "      <th>PERIOD</th>\n",
       "      <th>STATE</th>\n",
       "      <th>REGION</th>\n",
       "      <th>EMP</th>\n",
       "      <th>CO_OWNED</th>\n",
       "      <th>BONUS</th>\n",
       "      <th>HRSOPEN</th>\n",
       "      <th>NREGS</th>\n",
       "      <th>CHAIN_1.0</th>\n",
       "      <th>CHAIN_2.0</th>\n",
       "      <th>CHAIN_3.0</th>\n",
       "      <th>CHAIN_4.0</th>\n",
       "    </tr>\n",
       "  </thead>\n",
       "  <tbody>\n",
       "    <tr>\n",
       "      <th>0</th>\n",
       "      <td>46.0</td>\n",
       "      <td>0</td>\n",
       "      <td>0.0</td>\n",
       "      <td>4</td>\n",
       "      <td>45.0</td>\n",
       "      <td>0.0</td>\n",
       "      <td>1.0</td>\n",
       "      <td>16.5</td>\n",
       "      <td>3.0</td>\n",
       "      <td>1</td>\n",
       "      <td>0</td>\n",
       "      <td>0</td>\n",
       "      <td>0</td>\n",
       "    </tr>\n",
       "    <tr>\n",
       "      <th>1</th>\n",
       "      <td>49.0</td>\n",
       "      <td>0</td>\n",
       "      <td>0.0</td>\n",
       "      <td>4</td>\n",
       "      <td>13.0</td>\n",
       "      <td>0.0</td>\n",
       "      <td>0.0</td>\n",
       "      <td>13.0</td>\n",
       "      <td>4.0</td>\n",
       "      <td>0</td>\n",
       "      <td>1</td>\n",
       "      <td>0</td>\n",
       "      <td>0</td>\n",
       "    </tr>\n",
       "    <tr>\n",
       "      <th>2</th>\n",
       "      <td>506.0</td>\n",
       "      <td>0</td>\n",
       "      <td>0.0</td>\n",
       "      <td>4</td>\n",
       "      <td>10.0</td>\n",
       "      <td>1.0</td>\n",
       "      <td>0.0</td>\n",
       "      <td>10.0</td>\n",
       "      <td>3.0</td>\n",
       "      <td>0</td>\n",
       "      <td>1</td>\n",
       "      <td>0</td>\n",
       "      <td>0</td>\n",
       "    </tr>\n",
       "    <tr>\n",
       "      <th>3</th>\n",
       "      <td>56.0</td>\n",
       "      <td>0</td>\n",
       "      <td>0.0</td>\n",
       "      <td>4</td>\n",
       "      <td>40.0</td>\n",
       "      <td>1.0</td>\n",
       "      <td>1.0</td>\n",
       "      <td>12.0</td>\n",
       "      <td>2.0</td>\n",
       "      <td>0</td>\n",
       "      <td>0</td>\n",
       "      <td>0</td>\n",
       "      <td>1</td>\n",
       "    </tr>\n",
       "    <tr>\n",
       "      <th>4</th>\n",
       "      <td>61.0</td>\n",
       "      <td>0</td>\n",
       "      <td>0.0</td>\n",
       "      <td>4</td>\n",
       "      <td>32.0</td>\n",
       "      <td>1.0</td>\n",
       "      <td>1.0</td>\n",
       "      <td>12.0</td>\n",
       "      <td>2.0</td>\n",
       "      <td>0</td>\n",
       "      <td>0</td>\n",
       "      <td>0</td>\n",
       "      <td>1</td>\n",
       "    </tr>\n",
       "  </tbody>\n",
       "</table>\n",
       "</div>"
      ],
      "text/plain": [
       "   UNIQUE_ID  PERIOD  STATE  REGION   EMP  CO_OWNED  BONUS  HRSOPEN  NREGS  \\\n",
       "0       46.0       0    0.0       4  45.0       0.0    1.0     16.5    3.0   \n",
       "1       49.0       0    0.0       4  13.0       0.0    0.0     13.0    4.0   \n",
       "2      506.0       0    0.0       4  10.0       1.0    0.0     10.0    3.0   \n",
       "3       56.0       0    0.0       4  40.0       1.0    1.0     12.0    2.0   \n",
       "4       61.0       0    0.0       4  32.0       1.0    1.0     12.0    2.0   \n",
       "\n",
       "   CHAIN_1.0  CHAIN_2.0  CHAIN_3.0  CHAIN_4.0  \n",
       "0          1          0          0          0  \n",
       "1          0          1          0          0  \n",
       "2          0          1          0          0  \n",
       "3          0          0          0          1  \n",
       "4          0          0          0          1  "
      ]
     },
     "execution_count": 13,
     "metadata": {},
     "output_type": "execute_result"
    }
   ],
   "source": [
    "# Get dummy variables for CHAIN\n",
    "dummy_pre = pd.get_dummies(pre, columns=['CHAIN']).head() # Pandas' default is not to drop a column\n",
    "dummy_pre.head()"
   ]
  },
  {
   "cell_type": "code",
   "execution_count": 14,
   "metadata": {
    "tags": []
   },
   "outputs": [
    {
     "data": {
      "text/html": [
       "<div>\n",
       "<style scoped>\n",
       "    .dataframe tbody tr th:only-of-type {\n",
       "        vertical-align: middle;\n",
       "    }\n",
       "\n",
       "    .dataframe tbody tr th {\n",
       "        vertical-align: top;\n",
       "    }\n",
       "\n",
       "    .dataframe thead th {\n",
       "        text-align: right;\n",
       "    }\n",
       "</style>\n",
       "<table border=\"1\" class=\"dataframe\">\n",
       "  <thead>\n",
       "    <tr style=\"text-align: right;\">\n",
       "      <th></th>\n",
       "      <th>UNIQUE_ID</th>\n",
       "      <th>PERIOD</th>\n",
       "      <th>STATE</th>\n",
       "      <th>REGION</th>\n",
       "      <th>EMP</th>\n",
       "      <th>CO_OWNED</th>\n",
       "      <th>BONUS</th>\n",
       "      <th>HRSOPEN</th>\n",
       "      <th>NREGS</th>\n",
       "      <th>CHAIN_2.0</th>\n",
       "      <th>CHAIN_3.0</th>\n",
       "      <th>CHAIN_4.0</th>\n",
       "    </tr>\n",
       "  </thead>\n",
       "  <tbody>\n",
       "    <tr>\n",
       "      <th>0</th>\n",
       "      <td>46.0</td>\n",
       "      <td>0</td>\n",
       "      <td>0.0</td>\n",
       "      <td>4</td>\n",
       "      <td>45.0</td>\n",
       "      <td>0.0</td>\n",
       "      <td>1.0</td>\n",
       "      <td>16.5</td>\n",
       "      <td>3.0</td>\n",
       "      <td>0</td>\n",
       "      <td>0</td>\n",
       "      <td>0</td>\n",
       "    </tr>\n",
       "    <tr>\n",
       "      <th>1</th>\n",
       "      <td>49.0</td>\n",
       "      <td>0</td>\n",
       "      <td>0.0</td>\n",
       "      <td>4</td>\n",
       "      <td>13.0</td>\n",
       "      <td>0.0</td>\n",
       "      <td>0.0</td>\n",
       "      <td>13.0</td>\n",
       "      <td>4.0</td>\n",
       "      <td>1</td>\n",
       "      <td>0</td>\n",
       "      <td>0</td>\n",
       "    </tr>\n",
       "    <tr>\n",
       "      <th>2</th>\n",
       "      <td>506.0</td>\n",
       "      <td>0</td>\n",
       "      <td>0.0</td>\n",
       "      <td>4</td>\n",
       "      <td>10.0</td>\n",
       "      <td>1.0</td>\n",
       "      <td>0.0</td>\n",
       "      <td>10.0</td>\n",
       "      <td>3.0</td>\n",
       "      <td>1</td>\n",
       "      <td>0</td>\n",
       "      <td>0</td>\n",
       "    </tr>\n",
       "    <tr>\n",
       "      <th>3</th>\n",
       "      <td>56.0</td>\n",
       "      <td>0</td>\n",
       "      <td>0.0</td>\n",
       "      <td>4</td>\n",
       "      <td>40.0</td>\n",
       "      <td>1.0</td>\n",
       "      <td>1.0</td>\n",
       "      <td>12.0</td>\n",
       "      <td>2.0</td>\n",
       "      <td>0</td>\n",
       "      <td>0</td>\n",
       "      <td>1</td>\n",
       "    </tr>\n",
       "    <tr>\n",
       "      <th>4</th>\n",
       "      <td>61.0</td>\n",
       "      <td>0</td>\n",
       "      <td>0.0</td>\n",
       "      <td>4</td>\n",
       "      <td>32.0</td>\n",
       "      <td>1.0</td>\n",
       "      <td>1.0</td>\n",
       "      <td>12.0</td>\n",
       "      <td>2.0</td>\n",
       "      <td>0</td>\n",
       "      <td>0</td>\n",
       "      <td>1</td>\n",
       "    </tr>\n",
       "  </tbody>\n",
       "</table>\n",
       "</div>"
      ],
      "text/plain": [
       "   UNIQUE_ID  PERIOD  STATE  REGION   EMP  CO_OWNED  BONUS  HRSOPEN  NREGS  \\\n",
       "0       46.0       0    0.0       4  45.0       0.0    1.0     16.5    3.0   \n",
       "1       49.0       0    0.0       4  13.0       0.0    0.0     13.0    4.0   \n",
       "2      506.0       0    0.0       4  10.0       1.0    0.0     10.0    3.0   \n",
       "3       56.0       0    0.0       4  40.0       1.0    1.0     12.0    2.0   \n",
       "4       61.0       0    0.0       4  32.0       1.0    1.0     12.0    2.0   \n",
       "\n",
       "   CHAIN_2.0  CHAIN_3.0  CHAIN_4.0  \n",
       "0          0          0          0  \n",
       "1          1          0          0  \n",
       "2          1          0          0  \n",
       "3          0          0          1  \n",
       "4          0          0          1  "
      ]
     },
     "execution_count": 14,
     "metadata": {},
     "output_type": "execute_result"
    }
   ],
   "source": [
    "# Get dummy variables for CHAIN and drop one column\n",
    "dummy_pre = pd.get_dummies(pre, columns=['CHAIN'], drop_first=True).head() # Drop a column\n",
    "dummy_pre.head()"
   ]
  },
  {
   "cell_type": "code",
   "execution_count": 15,
   "metadata": {
    "tags": []
   },
   "outputs": [
    {
     "name": "stdout",
     "output_type": "stream",
     "text": [
      "                            OLS Regression Results                            \n",
      "==============================================================================\n",
      "Dep. Variable:                    EMP   R-squared:                       0.231\n",
      "Model:                            OLS   Adj. R-squared:                  0.225\n",
      "Method:                 Least Squares   F-statistic:                     39.61\n",
      "Date:                Thu, 01 Feb 2024   Prob (F-statistic):           2.12e-22\n",
      "Time:                        15:55:31   Log-Likelihood:                -1517.6\n",
      "No. Observations:                 399   AIC:                             3043.\n",
      "Df Residuals:                     395   BIC:                             3059.\n",
      "Df Model:                           3                                         \n",
      "Covariance Type:            nonrobust                                         \n",
      "==============================================================================\n",
      "                 coef    std err          t      P>|t|      [0.025      0.975]\n",
      "------------------------------------------------------------------------------\n",
      "const         30.4759      0.847     35.989      0.000      28.811      32.141\n",
      "CHAIN_2.0    -15.5080      1.498    -10.354      0.000     -18.453     -12.563\n",
      "CHAIN_3.0     -0.8126      1.390     -0.585      0.559      -3.545       1.920\n",
      "CHAIN_4.0     -1.8356      1.675     -1.096      0.274      -5.129       1.457\n",
      "==============================================================================\n",
      "Omnibus:                      164.786   Durbin-Watson:                   1.855\n",
      "Prob(Omnibus):                  0.000   Jarque-Bera (JB):              930.890\n",
      "Skew:                           1.676   Prob(JB):                    7.24e-203\n",
      "Kurtosis:                       9.690   Cond. No.                         4.01\n",
      "==============================================================================\n",
      "\n",
      "Notes:\n",
      "[1] Standard Errors assume that the covariance matrix of the errors is correctly specified.\n"
     ]
    }
   ],
   "source": [
    "# Regression with a dummy variable: Syntax option 1\n",
    "x = pd.get_dummies(pre[['CHAIN']], columns=['CHAIN'], drop_first=True)\n",
    "x = sm.add_constant(x)\n",
    "y = pre['EMP']\n",
    "print(sm.OLS(y, x).fit().summary())"
   ]
  },
  {
   "cell_type": "markdown",
   "metadata": {},
   "source": [
    "**Exercise**: \n",
    "\n",
    "- How do we interpret the coefficients on the variable(s) CHAIN?"
   ]
  },
  {
   "cell_type": "code",
   "execution_count": 16,
   "metadata": {
    "tags": []
   },
   "outputs": [
    {
     "name": "stdout",
     "output_type": "stream",
     "text": [
      "                            OLS Regression Results                            \n",
      "==============================================================================\n",
      "Dep. Variable:                    EMP   R-squared:                       0.231\n",
      "Model:                            OLS   Adj. R-squared:                  0.225\n",
      "Method:                 Least Squares   F-statistic:                     39.61\n",
      "Date:                Thu, 01 Feb 2024   Prob (F-statistic):           2.12e-22\n",
      "Time:                        15:55:31   Log-Likelihood:                -1517.6\n",
      "No. Observations:                 399   AIC:                             3043.\n",
      "Df Residuals:                     395   BIC:                             3059.\n",
      "Df Model:                           3                                         \n",
      "Covariance Type:            nonrobust                                         \n",
      "===================================================================================\n",
      "                      coef    std err          t      P>|t|      [0.025      0.975]\n",
      "-----------------------------------------------------------------------------------\n",
      "Intercept          30.4759      0.847     35.989      0.000      28.811      32.141\n",
      "C(CHAIN)[T.2.0]   -15.5080      1.498    -10.354      0.000     -18.453     -12.563\n",
      "C(CHAIN)[T.3.0]    -0.8126      1.390     -0.585      0.559      -3.545       1.920\n",
      "C(CHAIN)[T.4.0]    -1.8356      1.675     -1.096      0.274      -5.129       1.457\n",
      "==============================================================================\n",
      "Omnibus:                      164.786   Durbin-Watson:                   1.855\n",
      "Prob(Omnibus):                  0.000   Jarque-Bera (JB):              930.890\n",
      "Skew:                           1.676   Prob(JB):                    7.24e-203\n",
      "Kurtosis:                       9.690   Cond. No.                         4.01\n",
      "==============================================================================\n",
      "\n",
      "Notes:\n",
      "[1] Standard Errors assume that the covariance matrix of the errors is correctly specified.\n"
     ]
    }
   ],
   "source": [
    "# Regression with a dummy variable: Syntax option 2\n",
    "\n",
    "# Statsmodels formula API automatically drops one of the dummies\n",
    "print(smf.ols(formula='EMP ~ C(CHAIN)', data=pre).fit().summary()) "
   ]
  },
  {
   "cell_type": "markdown",
   "metadata": {},
   "source": [
    " - Now run the regression again, this time dropping the constant. What do you observe? How have the coefficients changed?"
   ]
  },
  {
   "cell_type": "code",
   "execution_count": 17,
   "metadata": {
    "tags": []
   },
   "outputs": [
    {
     "name": "stdout",
     "output_type": "stream",
     "text": [
      "                            OLS Regression Results                            \n",
      "==============================================================================\n",
      "Dep. Variable:                    EMP   R-squared:                       0.231\n",
      "Model:                            OLS   Adj. R-squared:                  0.225\n",
      "Method:                 Least Squares   F-statistic:                     39.61\n",
      "Date:                Thu, 01 Feb 2024   Prob (F-statistic):           2.12e-22\n",
      "Time:                        15:55:31   Log-Likelihood:                -1517.6\n",
      "No. Observations:                 399   AIC:                             3043.\n",
      "Df Residuals:                     395   BIC:                             3059.\n",
      "Df Model:                           3                                         \n",
      "Covariance Type:            nonrobust                                         \n",
      "=================================================================================\n",
      "                    coef    std err          t      P>|t|      [0.025      0.975]\n",
      "---------------------------------------------------------------------------------\n",
      "C(CHAIN)[1.0]    30.4759      0.847     35.989      0.000      28.811      32.141\n",
      "C(CHAIN)[2.0]    14.9679      1.235     12.116      0.000      12.539      17.397\n",
      "C(CHAIN)[3.0]    29.6633      1.102     26.915      0.000      27.496      31.830\n",
      "C(CHAIN)[4.0]    28.6404      1.445     19.819      0.000      25.799      31.481\n",
      "==============================================================================\n",
      "Omnibus:                      164.786   Durbin-Watson:                   1.855\n",
      "Prob(Omnibus):                  0.000   Jarque-Bera (JB):              930.890\n",
      "Skew:                           1.676   Prob(JB):                    7.24e-203\n",
      "Kurtosis:                       9.690   Cond. No.                         1.71\n",
      "==============================================================================\n",
      "\n",
      "Notes:\n",
      "[1] Standard Errors assume that the covariance matrix of the errors is correctly specified.\n"
     ]
    }
   ],
   "source": [
    "# Alternative: drop the constant\n",
    "print(smf.ols(formula='EMP ~ C(CHAIN) - 1', data=pre).fit().summary()) "
   ]
  },
  {
   "cell_type": "markdown",
   "metadata": {},
   "source": [
    "### 3. Multivariate Regression\n",
    "\n",
    "Now let's look at some other covariates: The number of registrations, whether or not employees get a bonus, and the region."
   ]
  },
  {
   "cell_type": "code",
   "execution_count": 18,
   "metadata": {
    "tags": []
   },
   "outputs": [
    {
     "name": "stdout",
     "output_type": "stream",
     "text": [
      "                            OLS Regression Results                            \n",
      "==============================================================================\n",
      "Dep. Variable:                    EMP   R-squared:                       0.338\n",
      "Model:                            OLS   Adj. R-squared:                  0.332\n",
      "Method:                 Least Squares   F-statistic:                     67.08\n",
      "Date:                Thu, 01 Feb 2024   Prob (F-statistic):           4.46e-35\n",
      "Time:                        15:55:31   Log-Likelihood:                -1488.0\n",
      "No. Observations:                 399   AIC:                             2984.\n",
      "Df Residuals:                     395   BIC:                             3000.\n",
      "Df Model:                           3                                         \n",
      "Covariance Type:            nonrobust                                         \n",
      "==============================================================================\n",
      "                 coef    std err          t      P>|t|      [0.025      0.975]\n",
      "------------------------------------------------------------------------------\n",
      "const         -9.7277      2.829     -3.439      0.001     -15.289      -4.167\n",
      "HRSOPEN        2.5806      0.188     13.736      0.000       2.211       2.950\n",
      "NREGS         -0.4355      0.423     -1.030      0.304      -1.267       0.396\n",
      "BONUS          4.0760      1.186      3.437      0.001       1.744       6.408\n",
      "==============================================================================\n",
      "Omnibus:                      125.996   Durbin-Watson:                   1.811\n",
      "Prob(Omnibus):                  0.000   Jarque-Bera (JB):              437.753\n",
      "Skew:                           1.402   Prob(JB):                     8.77e-96\n",
      "Kurtosis:                       7.298   Cond. No.                         85.4\n",
      "==============================================================================\n",
      "\n",
      "Notes:\n",
      "[1] Standard Errors assume that the covariance matrix of the errors is correctly specified.\n"
     ]
    }
   ],
   "source": [
    "# Syntax 1\n",
    "X = sm.add_constant(pre[['HRSOPEN', 'NREGS', 'BONUS']]) # X is capitalized since it's now a matrix\n",
    "y = pre['EMP']\n",
    "model = sm.OLS(y, X).fit()\n",
    "print(model.summary())"
   ]
  },
  {
   "cell_type": "markdown",
   "metadata": {
    "tags": []
   },
   "source": [
    "# Syntax 2\n",
    "model = smf.ols(formula='EMP ~ HRSOPEN + NREGS + C(REGION)', data=pre).fit()\n",
    "print(model.summary())"
   ]
  },
  {
   "cell_type": "code",
   "execution_count": 19,
   "metadata": {},
   "outputs": [
    {
     "name": "stdout",
     "output_type": "stream",
     "text": [
      "                            OLS Regression Results                            \n",
      "==============================================================================\n",
      "Dep. Variable:                    EMP   R-squared:                       0.358\n",
      "Model:                            OLS   Adj. R-squared:                  0.348\n",
      "Method:                 Least Squares   F-statistic:                     36.42\n",
      "Date:                Thu, 01 Feb 2024   Prob (F-statistic):           4.93e-35\n",
      "Time:                        15:55:31   Log-Likelihood:                -1481.7\n",
      "No. Observations:                 399   AIC:                             2977.\n",
      "Df Residuals:                     392   BIC:                             3005.\n",
      "Df Model:                           6                                         \n",
      "Covariance Type:            nonrobust                                         \n",
      "==================================================================================\n",
      "                     coef    std err          t      P>|t|      [0.025      0.975]\n",
      "----------------------------------------------------------------------------------\n",
      "Intercept        -10.9948      2.816     -3.904      0.000     -16.532      -5.458\n",
      "C(REGION)[T.2]     5.1939      1.667      3.116      0.002       1.917       8.471\n",
      "C(REGION)[T.3]     4.0237      1.307      3.078      0.002       1.454       6.593\n",
      "C(REGION)[T.4]     9.1469      1.983      4.612      0.000       5.248      13.046\n",
      "C(REGION)[T.5]     3.6607      1.873      1.955      0.051      -0.021       7.342\n",
      "HRSOPEN            2.4804      0.187     13.254      0.000       2.112       2.848\n",
      "NREGS             -0.4270      0.422     -1.013      0.312      -1.256       0.402\n",
      "==============================================================================\n",
      "Omnibus:                      111.582   Durbin-Watson:                   1.925\n",
      "Prob(Omnibus):                  0.000   Jarque-Bera (JB):              346.203\n",
      "Skew:                           1.274   Prob(JB):                     6.65e-76\n",
      "Kurtosis:                       6.785   Cond. No.                         91.4\n",
      "==============================================================================\n",
      "\n",
      "Notes:\n",
      "[1] Standard Errors assume that the covariance matrix of the errors is correctly specified.\n"
     ]
    }
   ],
   "source": [
    "model = smf.ols(formula='EMP ~ HRSOPEN + NREGS + C(REGION)', data=pre).fit()\n",
    "print(model.summary())"
   ]
  },
  {
   "cell_type": "markdown",
   "metadata": {},
   "source": [
    "**QUESTION**: Interpret each of the regression coefficients."
   ]
  },
  {
   "cell_type": "markdown",
   "metadata": {},
   "source": [
    "# Exercises:\n"
   ]
  },
  {
   "cell_type": "markdown",
   "metadata": {},
   "source": [
    "1. On average, prior to the wage increase, is the average employment in New Jersy and Pennsylvania similar? "
   ]
  },
  {
   "cell_type": "code",
   "execution_count": 20,
   "metadata": {
    "tags": []
   },
   "outputs": [
    {
     "data": {
      "text/plain": [
       "3.3683201533668843"
      ]
     },
     "execution_count": 20,
     "metadata": {},
     "output_type": "execute_result"
    }
   ],
   "source": [
    "pre[pre['STATE'] == 0]['EMP'].mean()-pre[pre['STATE'] == 1]['EMP'].mean()"
   ]
  },
  {
   "cell_type": "markdown",
   "metadata": {},
   "source": [
    "2. Calculate the average change in employment, for the following groups (difference in means):\n",
    "    \n",
    "    - Pennsylvania v/s New Jersey (Post-period only, i.e PERIOD = 1)\n",
    "    - Pennsylvania v/s New Jersey (Pre-period only, i.e PERIOD = 0)\n",
    "    - Pre v/s Post in Pennsylvania\n",
    "    - Pre v/s Post in New Jersey \n",
    "    - Differences-in-difference"
   ]
  },
  {
   "cell_type": "code",
   "execution_count": 21,
   "metadata": {
    "tags": []
   },
   "outputs": [
    {
     "name": "stdout",
     "output_type": "stream",
     "text": [
      "0.7609857978279031\n",
      "3.3683201533668843\n",
      "2.2186234817813784\n",
      "-0.3887108737576028\n",
      "2.607334355538981\n"
     ]
    }
   ],
   "source": [
    "print(post[post['STATE'] == 0]['EMP'].mean()-post[post['STATE'] == 1]['EMP'].mean())\n",
    "print(pre[pre['STATE'] == 0]['EMP'].mean()-pre[pre['STATE'] == 1]['EMP'].mean())\n",
    "print(pre[pre['STATE'] == 0]['EMP'].mean()-post[post['STATE'] == 0]['EMP'].mean())\n",
    "print(pre[pre['STATE'] == 1]['EMP'].mean()-post[post['STATE'] == 1]['EMP'].mean())\n",
    "print((pre[pre['STATE'] == 0]['EMP'].mean()-post[post['STATE'] == 0]['EMP'].mean())-(pre[pre['STATE'] == 1]['EMP'].mean()-post[post['STATE'] == 1]['EMP'].mean()))"
   ]
  },
  {
   "cell_type": "markdown",
   "metadata": {},
   "source": [
    "3. Now, let's do the same thing, but using linear regression! Let's focus on differences between Pennsylvania and New Jersey in the pre-period only. What do you observe?\n",
    "\n"
   ]
  },
  {
   "cell_type": "code",
   "execution_count": 22,
   "metadata": {
    "tags": []
   },
   "outputs": [
    {
     "name": "stdout",
     "output_type": "stream",
     "text": [
      "                            OLS Regression Results                            \n",
      "==============================================================================\n",
      "Dep. Variable:                    EMP   R-squared:                       0.012\n",
      "Model:                            OLS   Adj. R-squared:                  0.009\n",
      "Method:                 Least Squares   F-statistic:                     4.675\n",
      "Date:                Thu, 01 Feb 2024   Prob (F-statistic):             0.0312\n",
      "Time:                        15:55:31   Log-Likelihood:                -1567.8\n",
      "No. Observations:                 399   AIC:                             3140.\n",
      "Df Residuals:                     397   BIC:                             3148.\n",
      "Df Model:                           1                                         \n",
      "Covariance Type:            nonrobust                                         \n",
      "===================================================================================\n",
      "                      coef    std err          t      P>|t|      [0.025      0.975]\n",
      "-----------------------------------------------------------------------------------\n",
      "Intercept          29.6923      1.397     21.251      0.000      26.945      32.439\n",
      "C(STATE)[T.1.0]    -3.3683      1.558     -2.162      0.031      -6.431      -0.306\n",
      "==============================================================================\n",
      "Omnibus:                      124.338   Durbin-Watson:                   1.751\n",
      "Prob(Omnibus):                  0.000   Jarque-Bera (JB):              434.665\n",
      "Skew:                           1.379   Prob(JB):                     4.11e-95\n",
      "Kurtosis:                       7.306   Cond. No.                         4.32\n",
      "==============================================================================\n",
      "\n",
      "Notes:\n",
      "[1] Standard Errors assume that the covariance matrix of the errors is correctly specified.\n"
     ]
    }
   ],
   "source": [
    "print(smf.ols(formula='EMP ~ C(STATE)', data=pre).fit().summary()) "
   ]
  },
  {
   "cell_type": "markdown",
   "metadata": {},
   "source": [
    "4. Let's see what happens when we add a control variable. Let's control for the number of hours (HRSOPEN) "
   ]
  },
  {
   "cell_type": "code",
   "execution_count": 23,
   "metadata": {
    "tags": []
   },
   "outputs": [
    {
     "name": "stdout",
     "output_type": "stream",
     "text": [
      "                            OLS Regression Results                            \n",
      "==============================================================================\n",
      "Dep. Variable:                    EMP   R-squared:                       0.325\n",
      "Model:                            OLS   Adj. R-squared:                  0.322\n",
      "Method:                 Least Squares   F-statistic:                     95.46\n",
      "Date:                Thu, 01 Feb 2024   Prob (F-statistic):           1.46e-34\n",
      "Time:                        15:55:31   Log-Likelihood:                -1491.6\n",
      "No. Observations:                 399   AIC:                             2989.\n",
      "Df Residuals:                     396   BIC:                             3001.\n",
      "Df Model:                           2                                         \n",
      "Covariance Type:            nonrobust                                         \n",
      "===================================================================================\n",
      "                      coef    std err          t      P>|t|      [0.025      0.975]\n",
      "-----------------------------------------------------------------------------------\n",
      "Intercept          -5.9680      2.871     -2.079      0.038     -11.613      -0.323\n",
      "C(STATE)[T.1.0]    -3.2507      1.289     -2.522      0.012      -5.784      -0.717\n",
      "HRSOPEN             2.4626      0.182     13.568      0.000       2.106       2.819\n",
      "==============================================================================\n",
      "Omnibus:                      112.033   Durbin-Watson:                   1.828\n",
      "Prob(Omnibus):                  0.000   Jarque-Bera (JB):              323.592\n",
      "Skew:                           1.310   Prob(JB):                     5.41e-71\n",
      "Kurtosis:                       6.550   Cond. No.                         84.4\n",
      "==============================================================================\n",
      "\n",
      "Notes:\n",
      "[1] Standard Errors assume that the covariance matrix of the errors is correctly specified.\n"
     ]
    }
   ],
   "source": [
    "model = smf.ols(formula='EMP ~ HRSOPEN + C(STATE)', data=pre).fit()\n",
    "print(model.summary())"
   ]
  },
  {
   "cell_type": "markdown",
   "metadata": {},
   "source": [
    "5. Plot the regression line/ line of best fit in the treatment and the control groups"
   ]
  },
  {
   "cell_type": "code",
   "execution_count": null,
   "metadata": {},
   "outputs": [],
   "source": []
  },
  {
   "cell_type": "markdown",
   "metadata": {},
   "source": [
    "6. Let's finish with a visual assessment of trends in EMP before and after the wage increase, in T and C"
   ]
  },
  {
   "cell_type": "code",
   "execution_count": 24,
   "metadata": {},
   "outputs": [
    {
     "ename": "SyntaxError",
     "evalue": "invalid syntax (669012914.py, line 2)",
     "output_type": "error",
     "traceback": [
      "\u001b[0;36m  Cell \u001b[0;32mIn[24], line 2\u001b[0;36m\u001b[0m\n\u001b[0;31m    control_pre =\u001b[0m\n\u001b[0m                  ^\u001b[0m\n\u001b[0;31mSyntaxError\u001b[0m\u001b[0;31m:\u001b[0m invalid syntax\n"
     ]
    }
   ],
   "source": [
    "\n",
    "# Let's calculate the mean for the pre and post periods, in both the treatment and control groups. \n",
    "control_pre = \n",
    "treatment_pre = \n",
    "control_post = \n",
    "treatment_post = \n",
    "\n",
    "\n",
    "# Now, let's plot this. \n",
    "fig = plt.figure(figsize=(8, 5))\n",
    "plt.scatter([0, 1], [control_pre, control_post], s=200)\n",
    "plt.plot([0, 1], [control_pre, control_post], label='Control (Pennsylvania)')\n",
    "plt.scatter([0, 1], [treatment_pre, treatment_post], s=200)\n",
    "plt.plot([0, 1], [treatment_pre, treatment_post], label='Treatment (New Jersey)')\n",
    "plt.legend(loc='best', fontsize='large')\n",
    "plt.xlabel('Time (Pre vs. Post)', fontsize='large')\n",
    "plt.ylabel('Average Employees', fontsize='large')\n",
    "plt.title('Employees Over Time', fontsize='x-large')\n",
    "plt.show()\n"
   ]
  },
  {
   "cell_type": "markdown",
   "metadata": {},
   "source": [
    "## FOR NEXT WEEK"
   ]
  },
  {
   "cell_type": "markdown",
   "metadata": {},
   "source": [
    "### Differences-in-differences"
   ]
  },
  {
   "cell_type": "markdown",
   "metadata": {},
   "source": [
    "\n",
    "Use a differences-in-differences regression specification to estimate the impact of the increase in the minimum wage in New Jersey (state == 1) between the pre- and the post-period (period==1). \n",
    "\n",
    "Remember the diff-in-diff regression specification: Y = B0 + B1 * Time + B2 * Intervention + B3*(Time*Intervention)"
   ]
  },
  {
   "cell_type": "code",
   "execution_count": null,
   "metadata": {},
   "outputs": [],
   "source": []
  },
  {
   "cell_type": "markdown",
   "metadata": {},
   "source": [
    "**QUESTION**: Interpret the regression coefficients in terms of the impact of the minimum wage change on employment.\n",
    "\n",
    "**QUESTION**: Why might you want to add control variables to this regression?"
   ]
  },
  {
   "cell_type": "code",
   "execution_count": null,
   "metadata": {},
   "outputs": [],
   "source": []
  },
  {
   "cell_type": "markdown",
   "metadata": {},
   "source": [
    "### 5. Interaction Terms"
   ]
  },
  {
   "cell_type": "markdown",
   "metadata": {},
   "source": [
    "An interaction term captures the notion that the value of a variable is influenced by the value of another variables. "
   ]
  },
  {
   "cell_type": "code",
   "execution_count": null,
   "metadata": {},
   "outputs": [],
   "source": [
    "model1 = smf.ols(formula='EMP ~ HRSOPEN + BONUS + HRSOPEN * BONUS ', data=pre).fit()\n",
    "print(model1.summary())"
   ]
  },
  {
   "cell_type": "markdown",
   "metadata": {},
   "source": [
    "**QUESTION**: Interpret the coefficients"
   ]
  },
  {
   "cell_type": "markdown",
   "metadata": {},
   "source": [
    "**QUESTION**: Create a plot which demonstrates how the variable BONUS influences the value of HRSOPEN"
   ]
  },
  {
   "cell_type": "markdown",
   "metadata": {},
   "source": [
    "### 6: Fixed Effects Intuition"
   ]
  },
  {
   "cell_type": "markdown",
   "metadata": {},
   "source": [
    "Let's create a toy dataset for this example, with these variables:\n",
    "\n",
    "    - city: New York, Chicago, San Francisco, Washington D.C\n",
    "    - year: 2020, 2021, 2022, 2023, 2024\n",
    "    - quantity: the amount purchased (of some arbitrary good)\n",
    "    - price: the cost of the arbitrary good, varying by year and city. \n",
    "   "
   ]
  },
  {
   "cell_type": "code",
   "execution_count": null,
   "metadata": {},
   "outputs": [],
   "source": [
    "\n",
    "df_panel = pd.DataFrame({\n",
    "    \"quantity\": [25, 24.3, 23, 20,\n",
    "                 15, 13.8, 12.5, 13,\n",
    "                 20, 19, 18, 19,\n",
    "                 22, 19.5, 19, 19,\n",
    "                ],\n",
    "    \"price\": [5.0, 5.34, 5.47, 5.51, \n",
    "              4.01, 4.35, 4.43, 4.43, \n",
    "              4.50, 4.62, 4.70, 4.89, \n",
    "             4.80, 4.90, 4.95, 5.25\n",
    "             ],\n",
    "    \"year\":[2020, 2021, 2022, 2023]*4,\n",
    "    \"city\":  ['New York']*4 +  \n",
    "             [\"Chicago\"]*4 + \n",
    "             [\"San Francisco\"]*4 + \n",
    "             [\"Washington D.C.\"]*4\n",
    "})\n"
   ]
  },
  {
   "cell_type": "markdown",
   "metadata": {},
   "source": [
    "Let's explore a cross-section of this data, say in the year 2022.  "
   ]
  },
  {
   "cell_type": "code",
   "execution_count": null,
   "metadata": {},
   "outputs": [],
   "source": [
    "### View the data\n",
    "\n",
    "df_panel[df_panel['year'] == 2022]"
   ]
  },
  {
   "cell_type": "markdown",
   "metadata": {},
   "source": [
    "Simply looking over this data, it actually appears the quantity purchased appears to increase along with prices. Does that make sense?. \n",
    "\n",
    "What might explain this? On the one hand, perhaps the quality of the good is higher in certain cities. For example, if the **good** in question is a bagel, perhaps the best bagels are found in New York (ahem, Boichik)? Alternatively, there might simply be a high demand for bagels in New York, thus explaining the high prices. \n",
    "\n",
    "But simply put, we can't say much about the role of price here -- since we do not have data for quality, or bagel obsession.. Running a regression to further examine the relationship between quantity and price is likely to thus suffer from omitted variable bias.\n",
    "\n",
    "To hammer home this point, let's explore the relationship between quantity and price using a univariate regression, across the entire sample. What do you get?"
   ]
  },
  {
   "cell_type": "code",
   "execution_count": null,
   "metadata": {},
   "outputs": [],
   "source": [
    "m = smf.ols(\"quantity ~ price\", data = df_panel).fit()\n",
    "\n",
    "sns.scatterplot(data = df_panel, x=  'price', y = 'quantity', hue = \"city\")\n",
    "plt.plot(df_panel['price'], m.fittedvalues, \"k-\", alpha = 0.5, label=\"Regression Line\")\n",
    "plt.xlabel(\"Price\")\n",
    "plt.ylabel(\"Quantity\")\n",
    "sns.despine()\n",
    "plt.show()"
   ]
  },
  {
   "cell_type": "markdown",
   "metadata": {},
   "source": [
    "Now, let's examine the full dataset. "
   ]
  },
  {
   "cell_type": "code",
   "execution_count": null,
   "metadata": {},
   "outputs": [],
   "source": [
    "df_panel"
   ]
  },
  {
   "cell_type": "markdown",
   "metadata": {},
   "source": [
    "We see that as price increases, the quantity purchased decreases **within** each city. This is reasonable, as we would expect the demand to fall as price increases.\n",
    "\n",
    "This provides the underlying intuition for fixed effects. In the cross-section we saw earlier, a regression that primarily relied on variation across cities is problematic, due to omitted variables bias. The solution is to focus on **within** city variation, relying on the panel structure of the data to remove the effect of omitted variable bias.\n",
    "\n",
    "We still have to make a key assumption here, however. What is it?"
   ]
  },
  {
   "cell_type": "markdown",
   "metadata": {},
   "source": []
  },
  {
   "cell_type": "markdown",
   "metadata": {},
   "source": [
    "Now, let's examine a simple fixed effects model, where we eliminate the unobserved variation across cities, and focus only on within city variation. A simple way to achieve this, as you saw in lecture, is to add a dummy variable for each city. So let's go ahead and try that below. "
   ]
  },
  {
   "cell_type": "code",
   "execution_count": null,
   "metadata": {},
   "outputs": [],
   "source": [
    "#C() is used to tell statsmodels that the variable in question is a categorical/ factor variable\n",
    "fe = smf.ols(\"quantity ~ price + C(city)\", data=df_panel).fit()  \n",
    "\n",
    "df_panel['y_hat'] = fe.fittedvalues\n",
    "\n",
    "sns.scatterplot(data = df_panel, x = 'price', y = 'quantity', hue = 'city')\n",
    "for city in df_panel[\"city\"].unique():\n",
    "    plt_df = df_panel[df_panel[\"city\"] == city]\n",
    "    plt.plot(plt_df['price'], plt_df['y_hat'], \"k-\", alpha = 0.5)\n",
    "\n",
    "plt.title(\"Fixed Effect Model\")\n",
    "plt.xlabel(\"Quantity\")\n",
    "plt.ylabel(\"Price\")\n",
    "plt.legend(loc = \"best\")\n",
    "sns.despine()\n",
    "plt.show()"
   ]
  },
  {
   "cell_type": "markdown",
   "metadata": {},
   "source": [
    "Notice that we are effectively fitting one regression line per city. This is what the ''city'' fixed effect does -- it controls for the average (time invariant) differences across cities (in observable/ unobservable variables). "
   ]
  },
  {
   "cell_type": "code",
   "execution_count": null,
   "metadata": {},
   "outputs": [],
   "source": []
  }
 ],
 "metadata": {
  "kernelspec": {
   "display_name": "Python 3 (ipykernel)",
   "language": "python",
   "name": "python3"
  },
  "language_info": {
   "codemirror_mode": {
    "name": "ipython",
    "version": 3
   },
   "file_extension": ".py",
   "mimetype": "text/x-python",
   "name": "python",
   "nbconvert_exporter": "python",
   "pygments_lexer": "ipython3",
   "version": "3.11.0"
  }
 },
 "nbformat": 4,
 "nbformat_minor": 4
}
