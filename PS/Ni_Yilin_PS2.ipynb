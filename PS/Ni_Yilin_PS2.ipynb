{
 "cells": [
  {
   "cell_type": "markdown",
   "metadata": {},
   "source": [
    "# Problem Set 2"
   ]
  },
  {
   "cell_type": "markdown",
   "metadata": {},
   "source": [
    "## Introduction to the assignment\n",
    "\n",
    "For this assignment, you will be using data from the [Progresa program](http://en.wikipedia.org/wiki/Oportunidades), a government social assistance program in Mexico. This program, as well as the details of its impact, are described in the paper \"[School subsidies for the poor: evaluating the Mexican Progresa poverty program](http://www.sciencedirect.com/science/article/pii/S0304387803001858)\", by Paul Shultz (available on bCourses). Please familiarize yourself with the PROGRESA program before beginning this problem set, so you have a rough sense of where the data come from and how they were generated. If you just proceed into the problem set without understanding Progresa or the data, it will be very difficult!\n",
    "\n",
    "The goal of this problem set is to implement some of the basic econometric techniques that you are learning in class to measure the impact of Progresa on secondary school enrollment rates. The timeline of the program was:\n",
    "\n",
    " * Baseline survey conducted in 1997\n",
    " * Intervention begins in 1998, \"Wave 1\" of surveys conducted in 1998\n",
    " * \"Wave 2\" of surveys conducted in 1999\n",
    " * Evaluation ends in 2000, at which point the control villages were treated. \n",
    " \n",
    "When you are ready, download the progresa_sample.csv data from bCourses. The data are actual data collected to evaluate the impact of the Progresa program.  In this file, each row corresponds to an observation taken for a given child for a given year. There are two years of data (1997 and 1998), and just under 40,000 children who are surveyed in each year. For each child-year observation, the following variables are collected:\n",
    "\n",
    "| Variable name | Description|\n",
    "|------|------|\n",
    "|year\t  |year in which data is collected\n",
    "|sex\t  |male = 1|\n",
    "|indig\t  |indigenous = 1|\n",
    "|dist_sec |nearest distance to a secondary school|\n",
    "|sc\t      |enrolled in school in year of survey|\n",
    "|grc      |grade enrolled|\n",
    "|fam_n    |family size|\n",
    "|min_dist |\tmin distance to an urban center|\n",
    "|dist_cap |\tmin distance to the capital|\n",
    "|poor     |\tpoor = 1|\n",
    "|progresa |treatment =1|\n",
    "|hohedu\t  |years of schooling of head of household|\n",
    "|hohwag\t  |monthly wages of head of household|\n",
    "|welfare_index|\twelfare index used to classify poor|\n",
    "|hohsex\t|gender of head of household (male=1)|\n",
    "|hohage\t|age of head of household|\n",
    "|age\t|years old|\n",
    "|folnum\t|individual id|\n",
    "|village|\tvillage id|\n",
    "|sc97\t|schooling in 1997|\n",
    "|grc97  |grade enrolled in 1997"
   ]
  },
  {
   "cell_type": "code",
   "execution_count": 1,
   "metadata": {
    "tags": []
   },
   "outputs": [],
   "source": [
    "import IPython\n",
    "import numpy as np\n",
    "import scipy as sp\n",
    "import pandas as pd\n",
    "import matplotlib\n",
    "import statsmodels.api as sm\n",
    "\n",
    "data = pd.DataFrame(data = pd.read_csv('progresa_sample.csv'))"
   ]
  },
  {
   "cell_type": "markdown",
   "metadata": {
    "tags": []
   },
   "source": [
    "---\n",
    "\n",
    "## Part 1: Descriptive analysis\n",
    "\n",
    "### 1.1\tSummary Statistics\n",
    "\n",
    "Present summary statistics (mean, median and standard deviation) for all of the demographic variables in the dataset (i.e., everything except year, folnum, village). Present these in a single table alphabetized by variable name. Do NOT simply expect the grader to scroll through your output!\n",
    "\n",
    "*Note:* For this and subsequent problems, you will need to be careful in how you deal with missing (NULL) values. You should not blindly drop rows and columns where any data field is missing.  For instance, in calculating the average `hohwag`, you should average the `hohwag` values from all households that report a value (even if the household does not have a recorded `age` value, for example). "
   ]
  },
  {
   "cell_type": "code",
   "execution_count": 25,
   "metadata": {
    "tags": []
   },
   "outputs": [
    {
     "data": {
      "text/html": [
       "<div>\n",
       "<style scoped>\n",
       "    .dataframe tbody tr th:only-of-type {\n",
       "        vertical-align: middle;\n",
       "    }\n",
       "\n",
       "    .dataframe tbody tr th {\n",
       "        vertical-align: top;\n",
       "    }\n",
       "\n",
       "    .dataframe thead th {\n",
       "        text-align: right;\n",
       "    }\n",
       "</style>\n",
       "<table border=\"1\" class=\"dataframe\">\n",
       "  <thead>\n",
       "    <tr style=\"text-align: right;\">\n",
       "      <th></th>\n",
       "      <th>Mean</th>\n",
       "      <th>Median</th>\n",
       "      <th>SD</th>\n",
       "    </tr>\n",
       "  </thead>\n",
       "  <tbody>\n",
       "    <tr>\n",
       "      <th>age</th>\n",
       "      <td>11.366460</td>\n",
       "      <td>11.000000</td>\n",
       "      <td>3.167744</td>\n",
       "    </tr>\n",
       "    <tr>\n",
       "      <th>dist_cap</th>\n",
       "      <td>147.674452</td>\n",
       "      <td>132.001494</td>\n",
       "      <td>76.063134</td>\n",
       "    </tr>\n",
       "    <tr>\n",
       "      <th>dist_sec</th>\n",
       "      <td>2.418910</td>\n",
       "      <td>2.279000</td>\n",
       "      <td>2.234109</td>\n",
       "    </tr>\n",
       "    <tr>\n",
       "      <th>fam_n</th>\n",
       "      <td>7.215715</td>\n",
       "      <td>7.000000</td>\n",
       "      <td>2.352900</td>\n",
       "    </tr>\n",
       "    <tr>\n",
       "      <th>grc</th>\n",
       "      <td>3.963537</td>\n",
       "      <td>4.000000</td>\n",
       "      <td>2.499063</td>\n",
       "    </tr>\n",
       "    <tr>\n",
       "      <th>grc97</th>\n",
       "      <td>3.705372</td>\n",
       "      <td>4.000000</td>\n",
       "      <td>2.572387</td>\n",
       "    </tr>\n",
       "    <tr>\n",
       "      <th>hohage</th>\n",
       "      <td>44.436717</td>\n",
       "      <td>43.000000</td>\n",
       "      <td>11.620372</td>\n",
       "    </tr>\n",
       "    <tr>\n",
       "      <th>hohedu</th>\n",
       "      <td>2.768104</td>\n",
       "      <td>2.000000</td>\n",
       "      <td>2.656106</td>\n",
       "    </tr>\n",
       "    <tr>\n",
       "      <th>hohsex</th>\n",
       "      <td>0.925185</td>\n",
       "      <td>1.000000</td>\n",
       "      <td>0.263095</td>\n",
       "    </tr>\n",
       "    <tr>\n",
       "      <th>hohwag</th>\n",
       "      <td>586.985312</td>\n",
       "      <td>500.000000</td>\n",
       "      <td>788.133664</td>\n",
       "    </tr>\n",
       "    <tr>\n",
       "      <th>indig</th>\n",
       "      <td>0.298324</td>\n",
       "      <td>0.000000</td>\n",
       "      <td>0.457525</td>\n",
       "    </tr>\n",
       "    <tr>\n",
       "      <th>min_dist</th>\n",
       "      <td>103.447520</td>\n",
       "      <td>111.228612</td>\n",
       "      <td>42.089441</td>\n",
       "    </tr>\n",
       "    <tr>\n",
       "      <th>poor</th>\n",
       "      <td>0.846498</td>\n",
       "      <td>1.000000</td>\n",
       "      <td>0.360473</td>\n",
       "    </tr>\n",
       "    <tr>\n",
       "      <th>progresa</th>\n",
       "      <td>0.615663</td>\n",
       "      <td>1.000000</td>\n",
       "      <td>0.486441</td>\n",
       "    </tr>\n",
       "    <tr>\n",
       "      <th>sc</th>\n",
       "      <td>0.819818</td>\n",
       "      <td>1.000000</td>\n",
       "      <td>0.384342</td>\n",
       "    </tr>\n",
       "    <tr>\n",
       "      <th>sc97</th>\n",
       "      <td>0.813922</td>\n",
       "      <td>1.000000</td>\n",
       "      <td>0.389172</td>\n",
       "    </tr>\n",
       "    <tr>\n",
       "      <th>sex</th>\n",
       "      <td>0.512211</td>\n",
       "      <td>1.000000</td>\n",
       "      <td>0.499854</td>\n",
       "    </tr>\n",
       "    <tr>\n",
       "      <th>welfare_index</th>\n",
       "      <td>690.346564</td>\n",
       "      <td>685.000000</td>\n",
       "      <td>139.491130</td>\n",
       "    </tr>\n",
       "  </tbody>\n",
       "</table>\n",
       "</div>"
      ],
      "text/plain": [
       "                     Mean      Median          SD\n",
       "age             11.366460   11.000000    3.167744\n",
       "dist_cap       147.674452  132.001494   76.063134\n",
       "dist_sec         2.418910    2.279000    2.234109\n",
       "fam_n            7.215715    7.000000    2.352900\n",
       "grc              3.963537    4.000000    2.499063\n",
       "grc97            3.705372    4.000000    2.572387\n",
       "hohage          44.436717   43.000000   11.620372\n",
       "hohedu           2.768104    2.000000    2.656106\n",
       "hohsex           0.925185    1.000000    0.263095\n",
       "hohwag         586.985312  500.000000  788.133664\n",
       "indig            0.298324    0.000000    0.457525\n",
       "min_dist       103.447520  111.228612   42.089441\n",
       "poor             0.846498    1.000000    0.360473\n",
       "progresa         0.615663    1.000000    0.486441\n",
       "sc               0.819818    1.000000    0.384342\n",
       "sc97             0.813922    1.000000    0.389172\n",
       "sex              0.512211    1.000000    0.499854\n",
       "welfare_index  690.346564  685.000000  139.491130"
      ]
     },
     "execution_count": 25,
     "metadata": {},
     "output_type": "execute_result"
    }
   ],
   "source": [
    "data1_1 = data.copy()\n",
    "\n",
    "data1_1.loc[data1_1['poor'] == 'pobre', 'poor'] = 1\n",
    "data1_1.loc[data1_1['poor'] == 'no pobre', 'poor'] = 0\n",
    "data1_1.loc[data1_1['progresa'] == 'basal', 'progresa'] = 1\n",
    "data1_1.loc[data1_1['progresa'] == '0', 'progresa'] = 0\n",
    "data1_1['poor'] = pd.to_numeric(data1_1['poor'])\n",
    "data1_1['progresa'] = pd.to_numeric(data1_1['progresa'])\n",
    "\n",
    "stats = pd.DataFrame({\n",
    "        'Mean': data1_1.mean(),\n",
    "        'Median': data1_1.median(),\n",
    "        'SD': data1_1.std(),\n",
    "    })\n",
    "stats[~stats.index.isin(['year','folnum','village'])].sort_index()\n"
   ]
  },
  {
   "cell_type": "markdown",
   "metadata": {},
   "source": [
    "### 1.2 Differences at baseline?\n",
    "\n",
    "Are the baseline (1997) demographic characteristics **for the poor**  different in treatment and control villages?  Present your results in a single table with the following columns and 14 (or so) rows (alphabetized by variable name):\n",
    "\n",
    "\n",
    "| Variable name | Average value (Treatment villages) | Average value (Control villages) | Difference (Treat - Control) | p-value |\n",
    "|------|------|------|------|------|\n",
    "|Male|?|?|?|?|\n",
    "\n",
    " *Hint:* Use a T-Test to determine whether there is a statistically significant difference in the average values of each of the variables in the dataset. Focus only on the data from 1997 from poor households (i.e., poor=='pobre').\n",
    "\n"
   ]
  },
  {
   "cell_type": "code",
   "execution_count": 3,
   "metadata": {
    "tags": []
   },
   "outputs": [
    {
     "name": "stderr",
     "output_type": "stream",
     "text": [
      "/tmp/ipykernel_2005232/1192909550.py:6: RuntimeWarning: Precision loss occurred in moment calculation due to catastrophic cancellation. This occurs when the data are nearly identical. Results may be unreliable.\n",
      "  p_val = [sp.stats.ttest_ind(treatment[var], control[var], nan_policy = 'omit')[1] for var in treatment.columns]\n"
     ]
    },
    {
     "data": {
      "text/html": [
       "<div>\n",
       "<style scoped>\n",
       "    .dataframe tbody tr th:only-of-type {\n",
       "        vertical-align: middle;\n",
       "    }\n",
       "\n",
       "    .dataframe tbody tr th {\n",
       "        vertical-align: top;\n",
       "    }\n",
       "\n",
       "    .dataframe thead th {\n",
       "        text-align: right;\n",
       "    }\n",
       "</style>\n",
       "<table border=\"1\" class=\"dataframe\">\n",
       "  <thead>\n",
       "    <tr style=\"text-align: right;\">\n",
       "      <th></th>\n",
       "      <th>Variable name</th>\n",
       "      <th>Average value (Treatment villages)</th>\n",
       "      <th>Average value (Control villages)</th>\n",
       "      <th>Difference (Treat - Control)</th>\n",
       "      <th>p-value</th>\n",
       "    </tr>\n",
       "  </thead>\n",
       "  <tbody>\n",
       "    <tr>\n",
       "      <th>0</th>\n",
       "      <td>age</td>\n",
       "      <td>10.716991</td>\n",
       "      <td>10.742023</td>\n",
       "      <td>-0.025032</td>\n",
       "      <td>4.785594e-01</td>\n",
       "    </tr>\n",
       "    <tr>\n",
       "      <th>1</th>\n",
       "      <td>dist_cap</td>\n",
       "      <td>150.829074</td>\n",
       "      <td>153.769730</td>\n",
       "      <td>-2.940656</td>\n",
       "      <td>8.415005e-04</td>\n",
       "    </tr>\n",
       "    <tr>\n",
       "      <th>2</th>\n",
       "      <td>dist_sec</td>\n",
       "      <td>2.453122</td>\n",
       "      <td>2.507662</td>\n",
       "      <td>-0.054540</td>\n",
       "      <td>3.569843e-02</td>\n",
       "    </tr>\n",
       "    <tr>\n",
       "      <th>3</th>\n",
       "      <td>fam_n</td>\n",
       "      <td>7.281327</td>\n",
       "      <td>7.302469</td>\n",
       "      <td>-0.021142</td>\n",
       "      <td>4.271039e-01</td>\n",
       "    </tr>\n",
       "    <tr>\n",
       "      <th>4</th>\n",
       "      <td>grc</td>\n",
       "      <td>3.531599</td>\n",
       "      <td>3.543050</td>\n",
       "      <td>-0.011450</td>\n",
       "      <td>6.890151e-01</td>\n",
       "    </tr>\n",
       "    <tr>\n",
       "      <th>5</th>\n",
       "      <td>hohage</td>\n",
       "      <td>43.648828</td>\n",
       "      <td>44.276918</td>\n",
       "      <td>-0.628090</td>\n",
       "      <td>1.796243e-06</td>\n",
       "    </tr>\n",
       "    <tr>\n",
       "      <th>6</th>\n",
       "      <td>hohedu</td>\n",
       "      <td>2.663139</td>\n",
       "      <td>2.590348</td>\n",
       "      <td>0.072791</td>\n",
       "      <td>1.105093e-02</td>\n",
       "    </tr>\n",
       "    <tr>\n",
       "      <th>7</th>\n",
       "      <td>hohsex</td>\n",
       "      <td>0.924656</td>\n",
       "      <td>0.922947</td>\n",
       "      <td>0.001709</td>\n",
       "      <td>5.711858e-01</td>\n",
       "    </tr>\n",
       "    <tr>\n",
       "      <th>8</th>\n",
       "      <td>hohwag</td>\n",
       "      <td>544.339544</td>\n",
       "      <td>573.163558</td>\n",
       "      <td>-28.824015</td>\n",
       "      <td>3.253835e-04</td>\n",
       "    </tr>\n",
       "    <tr>\n",
       "      <th>9</th>\n",
       "      <td>indig</td>\n",
       "      <td>0.325986</td>\n",
       "      <td>0.332207</td>\n",
       "      <td>-0.006222</td>\n",
       "      <td>2.453603e-01</td>\n",
       "    </tr>\n",
       "    <tr>\n",
       "      <th>10</th>\n",
       "      <td>min_dist</td>\n",
       "      <td>107.152915</td>\n",
       "      <td>103.237854</td>\n",
       "      <td>3.915060</td>\n",
       "      <td>2.358312e-16</td>\n",
       "    </tr>\n",
       "    <tr>\n",
       "      <th>11</th>\n",
       "      <td>sc</td>\n",
       "      <td>0.822697</td>\n",
       "      <td>0.815186</td>\n",
       "      <td>0.007511</td>\n",
       "      <td>9.517806e-02</td>\n",
       "    </tr>\n",
       "    <tr>\n",
       "      <th>12</th>\n",
       "      <td>sex</td>\n",
       "      <td>0.519317</td>\n",
       "      <td>0.505052</td>\n",
       "      <td>0.014265</td>\n",
       "      <td>1.219172e-02</td>\n",
       "    </tr>\n",
       "    <tr>\n",
       "      <th>13</th>\n",
       "      <td>welfare_index</td>\n",
       "      <td>655.428377</td>\n",
       "      <td>659.579100</td>\n",
       "      <td>-4.150723</td>\n",
       "      <td>1.431016e-03</td>\n",
       "    </tr>\n",
       "  </tbody>\n",
       "</table>\n",
       "</div>"
      ],
      "text/plain": [
       "    Variable name  Average value (Treatment villages)  \\\n",
       "0             age                           10.716991   \n",
       "1        dist_cap                          150.829074   \n",
       "2        dist_sec                            2.453122   \n",
       "3           fam_n                            7.281327   \n",
       "4             grc                            3.531599   \n",
       "5          hohage                           43.648828   \n",
       "6          hohedu                            2.663139   \n",
       "7          hohsex                            0.924656   \n",
       "8          hohwag                          544.339544   \n",
       "9           indig                            0.325986   \n",
       "10       min_dist                          107.152915   \n",
       "11             sc                            0.822697   \n",
       "12            sex                            0.519317   \n",
       "13  welfare_index                          655.428377   \n",
       "\n",
       "    Average value (Control villages)  Difference (Treat - Control)  \\\n",
       "0                          10.742023                     -0.025032   \n",
       "1                         153.769730                     -2.940656   \n",
       "2                           2.507662                     -0.054540   \n",
       "3                           7.302469                     -0.021142   \n",
       "4                           3.543050                     -0.011450   \n",
       "5                          44.276918                     -0.628090   \n",
       "6                           2.590348                      0.072791   \n",
       "7                           0.922947                      0.001709   \n",
       "8                         573.163558                    -28.824015   \n",
       "9                           0.332207                     -0.006222   \n",
       "10                        103.237854                      3.915060   \n",
       "11                          0.815186                      0.007511   \n",
       "12                          0.505052                      0.014265   \n",
       "13                        659.579100                     -4.150723   \n",
       "\n",
       "         p-value  \n",
       "0   4.785594e-01  \n",
       "1   8.415005e-04  \n",
       "2   3.569843e-02  \n",
       "3   4.271039e-01  \n",
       "4   6.890151e-01  \n",
       "5   1.796243e-06  \n",
       "6   1.105093e-02  \n",
       "7   5.711858e-01  \n",
       "8   3.253835e-04  \n",
       "9   2.453603e-01  \n",
       "10  2.358312e-16  \n",
       "11  9.517806e-02  \n",
       "12  1.219172e-02  \n",
       "13  1.431016e-03  "
      ]
     },
     "execution_count": 3,
     "metadata": {},
     "output_type": "execute_result"
    }
   ],
   "source": [
    "data1_2 = data1_1[(data1_1['year'] == 97)&(data1_1['poor'] == 1)]\n",
    "\n",
    "treatment = data1_2[data1_2['progresa'] == 1]\n",
    "control = data1_2[data1_2['progresa'] == 0]\n",
    "\n",
    "p_val = [sp.stats.ttest_ind(treatment[var], control[var], nan_policy = 'omit')[1] for var in treatment.columns]\n",
    "\n",
    "\n",
    "stats_1_2 = pd.DataFrame({\n",
    "        'Average value (Treatment villages)': treatment.mean(),\n",
    "        'Average value (Control villages)': control.mean(),\n",
    "        'Difference (Treat - Control)': treatment.mean()-control.mean(),\n",
    "        'p-value': p_val\n",
    "    })\n",
    "stats_1_2[~stats_1_2.index.isin(['year','folnum','village','poor','progresa','grc97','sc97'])].sort_index().reset_index().rename(columns={'index':'Variable name'})"
   ]
  },
  {
   "cell_type": "markdown",
   "metadata": {},
   "source": [
    "### 1.3 Interpretation\n",
    "\n",
    "* A: Are there statistically significant differences between treatment and control villages at baseline? \n",
    "* B: Why does it matter if there are differences at baseline?\n",
    "* C: What does this imply about how to measure the impact of the treatment?"
   ]
  },
  {
   "cell_type": "markdown",
   "metadata": {
    "tags": []
   },
   "source": [
    "* A: Consider that significant level is 0.05, for distance to capital, distance to nearest secondary school, head of household age, head of household education, head of household wage, min distance to an urban center, sex and welfare index, there are significant differences between treatment and control villages. 8 variables out of 14 have significant differences, the rest do not have significant difference.\n",
    "* B: If there are differences at baseline, it suggests that the randomization of treatment and control is not perfect, there are preexisting difference between control and treatment group. i.e. the identifying assumption does not hold. \n",
    "* C: This implies that we should not expect the end result to be the same in the absence of treatment. We need to set variables with significant difference at baseline to be control variables in order to separate variation due to treatment and variation due to preexisiting difference when we measure the impact of the treatment."
   ]
  },
  {
   "cell_type": "markdown",
   "metadata": {},
   "source": [
    "### 1.4 Graphical exploration, part 1\n",
    "\n",
    "Visualize the distribution of village enrollment rates **among poor households in treated villages**, before and after treatment. Specifically, for each village, calculate the average rate of enrollment of poor households in treated villages in 1997, then compute the average rate of enrollment of poor households in treated villages in 1998. Create two separate histograms showing the distribution of these average enrollments rates, one histogram for 1997 and one histogram for 1998. On each histogram, draw a vertical line that intersects the x-axis at the average value (across all households). Does there appear to be a difference? Is this difference statistically significant?"
   ]
  },
  {
   "cell_type": "code",
   "execution_count": 4,
   "metadata": {
    "tags": []
   },
   "outputs": [
    {
     "name": "stderr",
     "output_type": "stream",
     "text": [
      "/tmp/ipykernel_2005232/567536584.py:13: SettingWithCopyWarning: \n",
      "A value is trying to be set on a copy of a slice from a DataFrame.\n",
      "Try using .loc[row_indexer,col_indexer] = value instead\n",
      "\n",
      "See the caveats in the documentation: https://pandas.pydata.org/pandas-docs/stable/user_guide/indexing.html#returning-a-view-versus-a-copy\n",
      "  before_1_4['sc'] = before_1_4.groupby('village')['sc'].transform('mean')\n",
      "/tmp/ipykernel_2005232/567536584.py:16: SettingWithCopyWarning: \n",
      "A value is trying to be set on a copy of a slice from a DataFrame.\n",
      "Try using .loc[row_indexer,col_indexer] = value instead\n",
      "\n",
      "See the caveats in the documentation: https://pandas.pydata.org/pandas-docs/stable/user_guide/indexing.html#returning-a-view-versus-a-copy\n",
      "  after_1_4['sc'] = after_1_4.groupby('village')['sc'].transform('mean')\n"
     ]
    },
    {
     "data": {
      "image/png": "[encoded data removed]",
      "text/plain": [
       "<Figure size 1000x400 with 2 Axes>"
      ]
     },
     "metadata": {},
     "output_type": "display_data"
    },
    {
     "name": "stdout",
     "output_type": "stream",
     "text": [
      "Mean Difference = 0.023782233992046597.\n",
      "Overall: t-stat = -6.069273929290983  p-val = 1.2976490728161e-09\n",
      "Grouped: t-stat = -2.015713486515581  p-val = 0.044248700365727124\n"
     ]
    }
   ],
   "source": [
    "import matplotlib.pyplot as plt  \n",
    "\n",
    "\n",
    "before_1_4 = data1_1[(data1_1['year'] == 97)&(data1_1['poor'] == 1) & (data1_1['progresa'] == 1)]\n",
    "after_1_4 = data1_1[(data1_1['year'] == 98)&(data1_1['poor'] == 1)&(data1_1['progresa']==1)]\n",
    "\n",
    "treat_mean_before = before_1_4['sc'].mean()\n",
    "treat_mean_after = after_1_4['sc'].mean()\n",
    "treat_diff = treat_mean_after-treat_mean_before\n",
    "\n",
    "t_stat, p_val = sp.stats.ttest_ind(before_1_4['sc'].dropna(), after_1_4['sc'].dropna())\n",
    "\n",
    "before_1_4['sc'] = before_1_4.groupby('village')['sc'].transform('mean')\n",
    "before_1_4 = before_1_4.drop_duplicates(subset='village', keep='first')\n",
    "\n",
    "after_1_4['sc'] = after_1_4.groupby('village')['sc'].transform('mean')\n",
    "after_1_4 = after_1_4.drop_duplicates(subset='village', keep='first')\n",
    "\n",
    "t_stat_group, p_val_group = sp.stats.ttest_ind(before_1_4['sc'], after_1_4['sc'])\n",
    "\n",
    "fig, axs = plt.subplots(1, 2, figsize=(10, 4))\n",
    "\n",
    "axs[0].hist(before_1_4['sc'], color='blue', alpha=0.5, edgecolor = 'white')\n",
    "axs[1].hist(after_1_4['sc'], color='blue', alpha=0.5,edgecolor = 'white')\n",
    "\n",
    "\n",
    "axs[0].axvline(treat_mean_before, color='red',label = 'Overall Mean in 97', linestyle = 'dashed')\n",
    "\n",
    "\n",
    "axs[1].axvline(treat_mean_after, color='red',label= 'Overall Mean in 98', linestyle = 'dashed')\n",
    "\n",
    "axs[0].legend()\n",
    "axs[1].legend()\n",
    "\n",
    "fig.suptitle('Average Enrollment Rate of Treated Villages', fontsize=16)\n",
    "\n",
    "plt.subplots_adjust(top=0.85)\n",
    "\n",
    "axs[0].set_title('in 1997')\n",
    "axs[1].set_title('in 1998')\n",
    "for ax in axs:\n",
    "    ax.set_xlabel('Enrollment Rate')\n",
    "    ax.set_ylabel('Frequency')\n",
    "\n",
    "plt.show()\n",
    "\n",
    "print('Mean Difference = {}.'.format(treat_diff))\n",
    "print('Overall: t-stat = {}  p-val = {}'.format(t_stat,p_val))\n",
    "print('Grouped: t-stat = {}  p-val = {}'.format(t_stat_group,p_val_group))"
   ]
  },
  {
   "cell_type": "markdown",
   "metadata": {
    "tags": []
   },
   "source": [
    "We could see that the difference between the mean enrollment rate between 1998 and 1997 is 0.0238. There is a difference.\n",
    "\n",
    "Consider that we are doing a pre and post design (limited by the scope of our data), we assume that the outcome in treated villages would be the same from 97 to 98 in absence of progresa.\n",
    "\n",
    "We would do a t-test on all recorded treated household enrollment rate between 1997 and 1998, the t-stat is -6.0693 and the p-val is 1.2976e-09\n",
    "Hence we could conclude that the difference is significant under alpha of 0.05.\n",
    "\n",
    "(In case that we might want to compare difference between village means, we have t-stat = -2.0157, p-val = 0.0442, as p-val still < 0.05, we have same conclusion as if we are comparing overall enrollment rate)"
   ]
  },
  {
   "cell_type": "markdown",
   "metadata": {},
   "source": [
    "### 1.5 Graphical exploration, part 2\n",
    "\n",
    "Repeat the above exercise for poor households in **control villages**, before and after treatment. Do you observe a difference in enrollment in control villages between 1997 and 1998? How does what you observe here affect how you might approach measuring the impact of PROGRESA?"
   ]
  },
  {
   "cell_type": "code",
   "execution_count": 5,
   "metadata": {
    "tags": []
   },
   "outputs": [
    {
     "name": "stderr",
     "output_type": "stream",
     "text": [
      "/tmp/ipykernel_2005232/1998367961.py:10: SettingWithCopyWarning: \n",
      "A value is trying to be set on a copy of a slice from a DataFrame.\n",
      "Try using .loc[row_indexer,col_indexer] = value instead\n",
      "\n",
      "See the caveats in the documentation: https://pandas.pydata.org/pandas-docs/stable/user_guide/indexing.html#returning-a-view-versus-a-copy\n",
      "  before_1_5['sc'] = before_1_5.groupby('village')['sc'].transform('mean')\n",
      "/tmp/ipykernel_2005232/1998367961.py:13: SettingWithCopyWarning: \n",
      "A value is trying to be set on a copy of a slice from a DataFrame.\n",
      "Try using .loc[row_indexer,col_indexer] = value instead\n",
      "\n",
      "See the caveats in the documentation: https://pandas.pydata.org/pandas-docs/stable/user_guide/indexing.html#returning-a-view-versus-a-copy\n",
      "  after_1_5['sc'] = after_1_5.groupby('village')['sc'].transform('mean')\n"
     ]
    },
    {
     "data": {
      "image/png": "[encoded data removed]",
      "text/plain": [
       "<Figure size 1000x400 with 2 Axes>"
      ]
     },
     "metadata": {},
     "output_type": "display_data"
    },
    {
     "name": "stdout",
     "output_type": "stream",
     "text": [
      "Mean Difference = -0.007549046327276487.\n",
      "Overall: t-stat = 1.4355850984946787  p-val = 0.1511345297015608\n",
      "Grouped: t-stat = 0.7816669784862407  p-val = 0.43491292017496097\n",
      "DiD = 0.031331280319323085\n",
      "                            OLS Regression Results                            \n",
      "==============================================================================\n",
      "Dep. Variable:                     sc   R-squared:                       0.001\n",
      "Model:                            OLS   Adj. R-squared:                  0.001\n",
      "Method:                 Least Squares   F-statistic:                     28.31\n",
      "Date:                Tue, 06 Feb 2024   Prob (F-statistic):           2.76e-18\n",
      "Time:                        00:43:23   Log-Likelihood:                -26242.\n",
      "No. Observations:               58372   AIC:                         5.249e+04\n",
      "Df Residuals:                   58368   BIC:                         5.253e+04\n",
      "Df Model:                           3                                         \n",
      "Covariance Type:            nonrobust                                         \n",
      "======================================================================================================\n",
      "                                         coef    std err          t      P>|t|      [0.025      0.975]\n",
      "------------------------------------------------------------------------------------------------------\n",
      "Intercept                              0.8152      0.003    233.182      0.000       0.808       0.822\n",
      "C(progresa)[T.basal]                   0.0075      0.004      1.691      0.091      -0.001       0.016\n",
      "C(year)[T.98]                         -0.0075      0.005     -1.480      0.139      -0.018       0.002\n",
      "C(progresa)[T.basal]:C(year)[T.98]     0.0313      0.006      4.835      0.000       0.019       0.044\n",
      "==============================================================================\n",
      "Omnibus:                    15346.988   Durbin-Watson:                   1.397\n",
      "Prob(Omnibus):                  0.000   Jarque-Bera (JB):            30608.651\n",
      "Skew:                          -1.711   Prob(JB):                         0.00\n",
      "Kurtosis:                       3.937   Cond. No.                         7.67\n",
      "==============================================================================\n",
      "\n",
      "Notes:\n",
      "[1] Standard Errors assume that the covariance matrix of the errors is correctly specified.\n"
     ]
    }
   ],
   "source": [
    "before_1_5 = data1_1[(data1_1['year'] == 97)&(data1_1['poor'] == 1)&(data1_1['progresa']==0)]\n",
    "after_1_5 = data1_1[(data1_1['year'] == 98)&(data1_1['poor'] == 1)&(data1_1['progresa']==0)]\n",
    "\n",
    "control_mean_before = before_1_5['sc'].mean()\n",
    "control_mean_after = after_1_5['sc'].mean()\n",
    "control_diff = control_mean_after-control_mean_before\n",
    "\n",
    "t_stat, p_val = sp.stats.ttest_ind(before_1_5['sc'].dropna(), after_1_5['sc'].dropna())\n",
    "\n",
    "before_1_5['sc'] = before_1_5.groupby('village')['sc'].transform('mean')\n",
    "before_1_5 = before_1_5.drop_duplicates(subset='village', keep='first')\n",
    "\n",
    "after_1_5['sc'] = after_1_5.groupby('village')['sc'].transform('mean')\n",
    "after_1_5 = after_1_5.drop_duplicates(subset='village', keep='first')\n",
    "\n",
    "t_stat_group, p_val_group = sp.stats.ttest_ind(before_1_5['sc'], after_1_5['sc'])\n",
    "\n",
    "fig, axs = plt.subplots(1, 2, figsize=(10, 4))\n",
    "\n",
    "axs[0].hist(before_1_5['sc'], color='blue', alpha=0.5, edgecolor = 'white')\n",
    "axs[1].hist(after_1_5['sc'], color='blue', alpha=0.5,edgecolor = 'white')\n",
    "\n",
    "\n",
    "axs[0].axvline(control_mean_before, color='red',label = 'Overall Mean in 97', linestyle = 'dashed')\n",
    "\n",
    "\n",
    "axs[1].axvline(control_mean_after, color='red',label= 'Overall Mean in 98', linestyle = 'dashed')\n",
    "\n",
    "axs[0].legend()\n",
    "axs[1].legend()\n",
    "\n",
    "fig.suptitle('Average Enrollment Rate of Control Villages', fontsize=16)\n",
    "\n",
    "plt.subplots_adjust(top=0.85)\n",
    "\n",
    "axs[0].set_title('in 1997')\n",
    "axs[1].set_title('in 1998')\n",
    "for ax in axs:\n",
    "    ax.set_xlabel('Enrollment Rate')\n",
    "    ax.set_ylabel('Frequency')\n",
    "\n",
    "plt.show()\n",
    "\n",
    "print('Mean Difference = {}.'.format(control_diff))\n",
    "print('Overall: t-stat = {}  p-val = {}'.format(t_stat,p_val))\n",
    "print('Grouped: t-stat = {}  p-val = {}'.format(t_stat_group,p_val_group))\n",
    "print('DiD = {}'.format(treat_diff-control_diff))\n",
    "\n",
    "\n",
    "import statsmodels.formula.api as smf\n",
    "model = smf.ols(formula='sc ~ C(progresa) * C(year)', data=data[data['poor'] == 'pobre']).fit()\n",
    "print(model.summary())"
   ]
  },
  {
   "cell_type": "markdown",
   "metadata": {
    "tags": []
   },
   "source": [
    "We could see that the difference between the mean enrollment rate between 1998 and 1997 is -0.0075. The difference is small and also negative compare to 1.4. \n",
    "\n",
    "Under the simple pre-post design, we have t-stat = 1.4356, p-val = 0.1511, under alpha of 0.05, there is no significant difference.\n",
    "\n",
    "(T test on village means have t-stat = 0.7817, p-val = 0.4349, same conclusion).\n",
    "\n",
    "However, now that we have more data, we could use a double difference design, assuming that the trends in treated and control villages would be the same from 97 to 98 in absence of progresa, we would measure impact of Progresa by the difference of difference in time between control and treated villages.\n",
    "\n",
    "We could hand calculate that the difference in difference is 0.0313.\n",
    "\n",
    "We would do a regression to assess the statistical significance of DiD.\n",
    "Observing the summary of model, We could see the DiD we need is the coefficient of interaction term between year and progresa: 0.0313, close to our hand-calculated value.\n",
    "And the p value is at most 0.0004, hence we could conclude that the DiD is also significant under alpha of 0.05."
   ]
  },
  {
   "cell_type": "markdown",
   "metadata": {},
   "source": [
    "## Part 2: Measuring Impact\n",
    "\n",
    "Our goal is to estimate the causal impact of the PROGRESA program on the social and economic outcomes of individuals in Mexico. We will focus on the impact of the program on school enrollment rates among the poor (those with poor=='pobre'), since only the poor were eligible to receive PROGRESA assistance, and since a primary objective of the program was to increase school enrollment.\n",
    "\n",
    "### 2.1 Simple differences: T-test\n",
    "\n",
    "Begin by estimating the impact of Progresa using \"simple differences.\" Restricting yourself to data from 1998 (after treatment), calculate the average enrollment rate among **poor** households in the Treatment villages and the average enrollment rate among **poor** households in the control villages. Use a t-test to determine if this difference is statistically significant. What do you conclude?"
   ]
  },
  {
   "cell_type": "code",
   "execution_count": 6,
   "metadata": {
    "tags": []
   },
   "outputs": [],
   "source": [
    "import statsmodels.formula.api as smf\n",
    "data = pd.DataFrame(data = pd.read_csv('progresa_sample.csv'))\n",
    "\n",
    "data2 = data[data['poor'] == 'pobre']"
   ]
  },
  {
   "cell_type": "code",
   "execution_count": 7,
   "metadata": {
    "tags": []
   },
   "outputs": [
    {
     "name": "stdout",
     "output_type": "stream",
     "text": [
      "average enrollment rate of treated village = 0.8464791213954308; control village = 0.807636956730308\n",
      "difference in 98 = 0.0388421646651228\n",
      "t-stat = 8.358720567418374 p-val = 6.636344447523235e-17\n"
     ]
    }
   ],
   "source": [
    "treated_98 = data2[(data2['progresa']=='basal') & (data2['year']==98)]\n",
    "control_98 = data2[(data2['progresa']=='0') & (data2['year']==98)]\n",
    "difference_98 = treated_98['sc'].mean()-control_98['sc'].mean()\n",
    "\n",
    "\n",
    "t_stat, p_val = sp.stats.ttest_ind(treated_98['sc'].dropna(), control_98['sc'].dropna())\n",
    "\n",
    "print('average enrollment rate of treated village = {}; control village = {}'.format(treated_98['sc'].mean(), control_98['sc'].mean()))\n",
    "print('difference in 98 = {}'.format(difference_98))\n",
    "print('t-stat = {} p-val = {}'.format(t_stat, p_val))"
   ]
  },
  {
   "cell_type": "markdown",
   "metadata": {
    "tags": []
   },
   "source": [
    "The difference of average enrollment rate between treatment poor households and control poor households is 0.0388. \n",
    "\n",
    "Assuming alpha is 0.05, since the t-test generates a t-stat of 8.3587, a p-value of 6.6363e-17, we conclude that the difference is statistically significant.\n",
    "\n",
    "With key identifying assumption satisfied, the progresa is effective in increasing average enrollment rate. However, difference in baseline we found in 1.2 suggests that the identifying assumption not necessarily hold"
   ]
  },
  {
   "cell_type": "markdown",
   "metadata": {
    "tags": []
   },
   "source": [
    "### 2.2 Simple differences: Regression\n",
    "\n",
    "Estimate the effects of Progresa on enrollment using a regression model, by regressing the 1998 enrollment rates **of the poor** on treatment assignment. For now, do not include any other variables in your regression. Discuss the following:\n",
    "\n",
    "* Based on this model, how much did Progresa increase or decrease the likelihood of a child enrolling? Make sure you express you answer in a sentence that a person with no technical background could understand, using appropriate units.\n",
    "* How does your regression estimate compare to your t-test estimate from part 2.1?\n",
    "* Based on this regression model, can we reject the null hypothesis that the treatment effects are zero? \n",
    "* What is the counterfactual assumption underlying this regression?"
   ]
  },
  {
   "cell_type": "code",
   "execution_count": 8,
   "metadata": {
    "tags": []
   },
   "outputs": [],
   "source": [
    "data2_2 = data2[data2['year'] == 98]"
   ]
  },
  {
   "cell_type": "code",
   "execution_count": 9,
   "metadata": {
    "tags": []
   },
   "outputs": [
    {
     "name": "stdout",
     "output_type": "stream",
     "text": [
      "                            OLS Regression Results                            \n",
      "==============================================================================\n",
      "Dep. Variable:                     sc   R-squared:                       0.003\n",
      "Model:                            OLS   Adj. R-squared:                  0.003\n",
      "Method:                 Least Squares   F-statistic:                     69.87\n",
      "Date:                Tue, 06 Feb 2024   Prob (F-statistic):           6.64e-17\n",
      "Time:                        00:43:23   Log-Likelihood:                -11926.\n",
      "No. Observations:               27450   AIC:                         2.386e+04\n",
      "Df Residuals:                   27448   BIC:                         2.387e+04\n",
      "Df Model:                           1                                         \n",
      "Covariance Type:            nonrobust                                         \n",
      "========================================================================================\n",
      "                           coef    std err          t      P>|t|      [0.025      0.975]\n",
      "----------------------------------------------------------------------------------------\n",
      "Intercept                0.8076      0.004    220.676      0.000       0.800       0.815\n",
      "C(progresa)[T.basal]     0.0388      0.005      8.359      0.000       0.030       0.048\n",
      "==============================================================================\n",
      "Omnibus:                     7638.939   Durbin-Watson:                   1.734\n",
      "Prob(Omnibus):                  0.000   Jarque-Bera (JB):            15767.534\n",
      "Skew:                          -1.767   Prob(JB):                         0.00\n",
      "Kurtosis:                       4.140   Cond. No.                         3.01\n",
      "==============================================================================\n",
      "\n",
      "Notes:\n",
      "[1] Standard Errors assume that the covariance matrix of the errors is correctly specified.\n"
     ]
    }
   ],
   "source": [
    "model1 = smf.ols(formula='sc ~ C(progresa)', data=data2_2).fit()\n",
    "print(model1.summary())"
   ]
  },
  {
   "cell_type": "markdown",
   "metadata": {
    "tags": [],
    "user_expressions": []
   },
   "source": [
    "* Based on this model, treated by Progresa increase the likelihood of a poor household child enrolling by 3.88%, from 80.76% to 84.64%.\n",
    "* The regression estimate ($\\hat{\\beta} = 0.0388$, $t = 8.359$) is identical to the t-test estimate in 2.1 ($\\hat{\\beta} = 0.0388$, $t = 8.359$). They both have very low p-value.\n",
    "* Yes, assume an $\\alpha$ of 0.05 based on the p-value of at most 0.0004(shows 0.000 in summary table), we could reject the null hypothesis that the treatment effects are zero.\n",
    "* The counterfactual assumption is that the average enrollment rate would be the same across poor households without the presence of treatment (Progresa)."
   ]
  },
  {
   "cell_type": "markdown",
   "metadata": {},
   "source": [
    "### 2.3 Multiple Regression\n",
    "\n",
    "Estimate the above regression, but this time include a set of control variables. Include, for instance, age, distance to a secondary school, gender, education of household head, welfare index, indigenous, etc.\n",
    "\n",
    "* How do the controls affect the point estimate of treatment effect?\n",
    "* How do the controls affect the standard error on the treatment effect? \n",
    "* How do you interpret the differences (or similarities) between your estimates of 2.2 and 2.3?\n",
    "* Interpet the coefficient associated with the `dist_sec` variable. Is this evidence that the household's distance from a secondary school has a *causal* impact on educational attainment?"
   ]
  },
  {
   "cell_type": "code",
   "execution_count": 10,
   "metadata": {
    "tags": []
   },
   "outputs": [
    {
     "name": "stdout",
     "output_type": "stream",
     "text": [
      "                            OLS Regression Results                            \n",
      "==============================================================================\n",
      "Dep. Variable:                     sc   R-squared:                       0.267\n",
      "Model:                            OLS   Adj. R-squared:                  0.267\n",
      "Method:                 Least Squares   F-statistic:                     1419.\n",
      "Date:                Tue, 06 Feb 2024   Prob (F-statistic):               0.00\n",
      "Time:                        00:43:24   Log-Likelihood:                -7639.4\n",
      "No. Observations:               27267   AIC:                         1.529e+04\n",
      "Df Residuals:                   27259   BIC:                         1.536e+04\n",
      "Df Model:                           7                                         \n",
      "Covariance Type:            nonrobust                                         \n",
      "========================================================================================\n",
      "                           coef    std err          t      P>|t|      [0.025      0.975]\n",
      "----------------------------------------------------------------------------------------\n",
      "Intercept                1.5025      0.014    105.342      0.000       1.475       1.530\n",
      "C(progresa)[T.basal]     0.0352      0.004      8.799      0.000       0.027       0.043\n",
      "C(sex)[T.1.0]            0.0310      0.004      7.977      0.000       0.023       0.039\n",
      "C(indig)[T.1.0]          0.0468      0.004     11.283      0.000       0.039       0.055\n",
      "age                     -0.0655      0.001    -95.105      0.000      -0.067      -0.064\n",
      "dist_sec                -0.0117      0.001    -13.361      0.000      -0.013      -0.010\n",
      "hohedu                   0.0085      0.001     10.951      0.000       0.007       0.010\n",
      "welfare_index         3.227e-05   1.72e-05      1.872      0.061   -1.52e-06    6.61e-05\n",
      "==============================================================================\n",
      "Omnibus:                     2993.090   Durbin-Watson:                   1.718\n",
      "Prob(Omnibus):                  0.000   Jarque-Bera (JB):             4083.947\n",
      "Skew:                          -0.940   Prob(JB):                         0.00\n",
      "Kurtosis:                       3.248   Cond. No.                     4.90e+03\n",
      "==============================================================================\n",
      "\n",
      "Notes:\n",
      "[1] Standard Errors assume that the covariance matrix of the errors is correctly specified.\n",
      "[2] The condition number is large, 4.9e+03. This might indicate that there are\n",
      "strong multicollinearity or other numerical problems.\n"
     ]
    }
   ],
   "source": [
    "model2 = smf.ols(formula='sc ~ C(progresa) + age + dist_sec + C(sex) + hohedu + welfare_index + C(indig)', data=data2_2).fit()\n",
    "print(model2.summary())"
   ]
  },
  {
   "cell_type": "markdown",
   "metadata": {
    "tags": [],
    "user_expressions": []
   },
   "source": [
    "* The controls make the point estimate of treatment effect (Progresa) decreased from 0.0388 to 0.0352.\n",
    "* It also makes the standard error decreased from 0.005 to 0.004.\n",
    "* Consider that the estimate of treatment decreases, that is due to a part of variation in our dependent that is explained by treatment in model 2.2 is now correctedly explained by some of the control variable. We decrease the bias of our previous estimation. (We recognize that some of our control variables is correlated with treatment.) Also by controlling other variables, we have a more precise estimation of our treatment effect. Therefore, the estimate of treatment is lower and more precise in model 2.3. \n",
    "* The coef of dist_sec is -0.0117, meaning holding all others constant, one unit increase of dist_sec is correlated with 0.0117 decrease of educational attainment. This is not a evidence of causal impact, since our experiment only manipulates (randamized) Progresa variable, there is no causal inference that we can make about dist_sec on educational attainment without further data. It is very possible that dist_sec have unobserved correlation with other variables."
   ]
  },
  {
   "cell_type": "markdown",
   "metadata": {},
   "source": [
    "### 2.4 Multiple Regression Revisited\n",
    "\n",
    "For the same set of control variables that you used in 2.3, carry out the following alternative estimation procedure. \n",
    "\n",
    "* First, regress the 1998 enrollment of the poor on the control variables, **without including the treatment assignment.** \n",
    "* Second, use this model to obtain predicted values of the 1998 enrollment for each child in the sample used to estimate the model in step 1. \n",
    "* Third, compute a new value for each child, which is the difference between the actual 1998 enrollment and the predicted enrollment value from step 2. \n",
    "* Finally, regress the difference from step 3 on treatment assignment.\n",
    "\n",
    "Compare the point estimate and the standard error on treatment assignment that you obtained in step 4 to their analogues in 2.3. Explain the results."
   ]
  },
  {
   "cell_type": "code",
   "execution_count": 11,
   "metadata": {
    "tags": []
   },
   "outputs": [
    {
     "name": "stdout",
     "output_type": "stream",
     "text": [
      "                            OLS Regression Results                            \n",
      "==============================================================================\n",
      "Dep. Variable:                  devia   R-squared:                       0.003\n",
      "Model:                            OLS   Adj. R-squared:                  0.003\n",
      "Method:                 Least Squares   F-statistic:                     77.36\n",
      "Date:                Tue, 06 Feb 2024   Prob (F-statistic):           1.50e-18\n",
      "Time:                        00:43:25   Log-Likelihood:                -7639.4\n",
      "No. Observations:               27267   AIC:                         1.528e+04\n",
      "Df Residuals:                   27265   BIC:                         1.530e+04\n",
      "Df Model:                           1                                         \n",
      "Covariance Type:            nonrobust                                         \n",
      "========================================================================================\n",
      "                           coef    std err          t      P>|t|      [0.025      0.975]\n",
      "----------------------------------------------------------------------------------------\n",
      "Intercept               -0.0219      0.003     -6.934      0.000      -0.028      -0.016\n",
      "C(progresa)[T.basal]     0.0352      0.004      8.796      0.000       0.027       0.043\n",
      "==============================================================================\n",
      "Omnibus:                     2987.229   Durbin-Watson:                   1.718\n",
      "Prob(Omnibus):                  0.000   Jarque-Bera (JB):             4073.678\n",
      "Skew:                          -0.939   Prob(JB):                         0.00\n",
      "Kurtosis:                       3.246   Cond. No.                         3.01\n",
      "==============================================================================\n",
      "\n",
      "Notes:\n",
      "[1] Standard Errors assume that the covariance matrix of the errors is correctly specified.\n"
     ]
    },
    {
     "name": "stderr",
     "output_type": "stream",
     "text": [
      "/tmp/ipykernel_2005232/2217924201.py:8: SettingWithCopyWarning: \n",
      "A value is trying to be set on a copy of a slice from a DataFrame.\n",
      "Try using .loc[row_indexer,col_indexer] = value instead\n",
      "\n",
      "See the caveats in the documentation: https://pandas.pydata.org/pandas-docs/stable/user_guide/indexing.html#returning-a-view-versus-a-copy\n",
      "  combined_data['devia'] = devia2_4\n"
     ]
    }
   ],
   "source": [
    "model3 = smf.ols(formula='sc ~ age + dist_sec + C(sex) + hohedu + welfare_index + C(indig)', data=data2_2).fit()\n",
    "\n",
    "pred2_4 = model3.predict(sm.add_constant(data2_2[['age','dist_sec','sex','hohedu','welfare_index','indig']]))\n",
    "                          \n",
    "devia2_4 = data2_2['sc'] - pred2_4\n",
    "\n",
    "combined_data = data2_2\n",
    "combined_data['devia'] = devia2_4\n",
    "                          \n",
    "model4 = smf.ols(formula='devia~ C(progresa)', data=combined_data).fit()\n",
    "print(model4.summary())"
   ]
  },
  {
   "cell_type": "markdown",
   "metadata": {
    "tags": []
   },
   "source": [
    "The point estimate and the standard error is exactly the same compare to their analogues in model 2.3. \n",
    "In model 2.3, the coefficient of treatment represents the amount of variation in depedent that is explained by treatment partialling out the effect of controls.\n",
    "\n",
    "In 2.4, the residuals (difference calculated in step 3) represent the variation in dependent variable that's not explained by the control variables. Then the coefficient of the treatment in the second regression represents the amount of variation in dependent explained by treatment, they are exactly the same thing so they have the same point estimate and standard error."
   ]
  },
  {
   "cell_type": "markdown",
   "metadata": {},
   "source": [
    "### 2.5 Difference-in-Difference, version 1 (tabular)\n",
    "\n",
    "Thus far, we have computed the effects of Progresa by estimating the difference in 1998 enrollment rates across villages. An alternative approach would be to compute the treatment effect using a difference-in-differences framework.\n",
    "\n",
    "Begin by estimating the average treatment effects of the program for poor households using data from 1997 and 1998. Specifically, calculate the difference (between 1997 and 1998) in enrollment rates among poor households in treated villages; then compute the difference (between 1997 and 1998) in enrollment rates among poor households in control villages. \n",
    "\n",
    "Display your results in a 2x2 table where the rows are Control/Treatment and the columns are 1997/1998. \n",
    "\n",
    "* What is your difference-in-difference estimate of the impact, and how does it compare to your earlier (simple difference) results?\n",
    "* What is the counterfactual assumption underlying this estimate? \n"
   ]
  },
  {
   "cell_type": "code",
   "execution_count": 13,
   "metadata": {
    "tags": []
   },
   "outputs": [
    {
     "data": {
      "image/png": "[encoded data removed]",
      "text/plain": [
       "<Figure size 640x480 with 1 Axes>"
      ]
     },
     "metadata": {},
     "output_type": "display_data"
    },
    {
     "name": "stdout",
     "output_type": "stream",
     "text": [
      "0.031331280319323085\n"
     ]
    }
   ],
   "source": [
    "data2_5 = {'1997': [round(control_mean_before,6), round(treat_mean_before,6)],\n",
    "        '1998': [round(control_mean_after,6), round(treat_mean_after,6)]}\n",
    "df2_5 = pd.DataFrame(data2_5, index=['Control Group', 'Treatment Group'])\n",
    "\n",
    "fig, ax = plt.subplots()\n",
    "ax.axis('tight')\n",
    "ax.axis('off')\n",
    "ax.table(cellText=df2_5.values, colLabels=df2_5.columns, rowLabels=df2_5.index, cellLoc = 'center', loc='center')\n",
    "\n",
    "plt.show()\n",
    "\n",
    "print((treat_mean_after-treat_mean_before)-(control_mean_after-control_mean_before))"
   ]
  },
  {
   "cell_type": "markdown",
   "metadata": {},
   "source": [
    "* The DiD estimate of the impact is 0.03133, lower than that I got from the simple difference result.\n",
    "* The counterfactual assumption is that the trends in treated and control villages would be the same from 97 to 98 in absence of progresa."
   ]
  },
  {
   "cell_type": "markdown",
   "metadata": {},
   "source": [
    "### 2.6 Difference-in-Difference, version 2 (regression)\n",
    "\n",
    "Now use a regression specification to estimate the average treatment effects of the program in a difference-in-differences, for the poor households. Do this (i) first without including any control variables; and then (ii) do it a second time including at least 5 control variables. \n",
    "\n",
    "* What is your estimate (i) of the impact of Progresa? Be very specific in interpreting your coefficients and standard errors, and make sure to specify exactly what units you are measuring and estimating.\n",
    "* Does your estimate of the impact of Progresa from (i) change when you add control variables as in (ii)? How do you explain these changes, or the lack of changes on the `progresa` coefficient between (i) and (ii)?\n",
    "* How do the estimates from (i) and (ii) compare to the difference-in-difference estimates from 2.4 above? What accounts for these differences, if any exist?\n",
    "* What is the counterfactual assumption underlying regression (ii)? "
   ]
  },
  {
   "cell_type": "code",
   "execution_count": 14,
   "metadata": {
    "tags": []
   },
   "outputs": [
    {
     "name": "stdout",
     "output_type": "stream",
     "text": [
      "                            OLS Regression Results                            \n",
      "==============================================================================\n",
      "Dep. Variable:                     sc   R-squared:                       0.001\n",
      "Model:                            OLS   Adj. R-squared:                  0.001\n",
      "Method:                 Least Squares   F-statistic:                     28.31\n",
      "Date:                Tue, 06 Feb 2024   Prob (F-statistic):           2.76e-18\n",
      "Time:                        00:44:51   Log-Likelihood:                -26242.\n",
      "No. Observations:               58372   AIC:                         5.249e+04\n",
      "Df Residuals:                   58368   BIC:                         5.253e+04\n",
      "Df Model:                           3                                         \n",
      "Covariance Type:            nonrobust                                         \n",
      "======================================================================================================\n",
      "                                         coef    std err          t      P>|t|      [0.025      0.975]\n",
      "------------------------------------------------------------------------------------------------------\n",
      "Intercept                              0.8152      0.003    233.182      0.000       0.808       0.822\n",
      "C(progresa)[T.basal]                   0.0075      0.004      1.691      0.091      -0.001       0.016\n",
      "C(year)[T.98]                         -0.0075      0.005     -1.480      0.139      -0.018       0.002\n",
      "C(progresa)[T.basal]:C(year)[T.98]     0.0313      0.006      4.835      0.000       0.019       0.044\n",
      "==============================================================================\n",
      "Omnibus:                    15346.988   Durbin-Watson:                   1.397\n",
      "Prob(Omnibus):                  0.000   Jarque-Bera (JB):            30608.651\n",
      "Skew:                          -1.711   Prob(JB):                         0.00\n",
      "Kurtosis:                       3.937   Cond. No.                         7.67\n",
      "==============================================================================\n",
      "\n",
      "Notes:\n",
      "[1] Standard Errors assume that the covariance matrix of the errors is correctly specified.\n",
      "                            OLS Regression Results                            \n",
      "==============================================================================\n",
      "Dep. Variable:                     sc   R-squared:                       0.279\n",
      "Model:                            OLS   Adj. R-squared:                  0.278\n",
      "Method:                 Least Squares   F-statistic:                     2488.\n",
      "Date:                Tue, 06 Feb 2024   Prob (F-statistic):               0.00\n",
      "Time:                        00:44:53   Log-Likelihood:                -16656.\n",
      "No. Observations:               58013   AIC:                         3.333e+04\n",
      "Df Residuals:                   58003   BIC:                         3.342e+04\n",
      "Df Model:                           9                                         \n",
      "Covariance Type:            nonrobust                                         \n",
      "======================================================================================================\n",
      "                                         coef    std err          t      P>|t|      [0.025      0.975]\n",
      "------------------------------------------------------------------------------------------------------\n",
      "Intercept                              1.4711      0.010    149.640      0.000       1.452       1.490\n",
      "C(progresa)[T.basal]                   0.0044      0.004      1.169      0.242      -0.003       0.012\n",
      "C(year)[T.98]                          0.0278      0.004      6.370      0.000       0.019       0.036\n",
      "C(sex)[T.1.0]                          0.0338      0.003     12.625      0.000       0.029       0.039\n",
      "C(indig)[T.1.0]                        0.0499      0.003     17.363      0.000       0.044       0.055\n",
      "C(progresa)[T.basal]:C(year)[T.98]     0.0309      0.006      5.582      0.000       0.020       0.042\n",
      "age                                   -0.0655      0.000   -143.552      0.000      -0.066      -0.065\n",
      "dist_sec                              -0.0108      0.001    -17.378      0.000      -0.012      -0.010\n",
      "hohedu                                 0.0075      0.001     13.841      0.000       0.006       0.009\n",
      "welfare_index                       3.555e-05   1.19e-05      2.986      0.003    1.22e-05    5.89e-05\n",
      "==============================================================================\n",
      "Omnibus:                     5532.977   Durbin-Watson:                   1.483\n",
      "Prob(Omnibus):                  0.000   Jarque-Bera (JB):             7289.118\n",
      "Skew:                          -0.866   Prob(JB):                         0.00\n",
      "Kurtosis:                       3.116   Cond. No.                     5.02e+03\n",
      "==============================================================================\n",
      "\n",
      "Notes:\n",
      "[1] Standard Errors assume that the covariance matrix of the errors is correctly specified.\n",
      "[2] The condition number is large, 5.02e+03. This might indicate that there are\n",
      "strong multicollinearity or other numerical problems.\n"
     ]
    }
   ],
   "source": [
    "model5 = smf.ols(formula = \"sc ~ C(progresa)*C(year)\", data = data2).fit()\n",
    "print(model5.summary())\n",
    "\n",
    "\n",
    "model6 = smf.ols(formula='sc ~ C(progresa)*C(year) + age + dist_sec + C(sex) + hohedu + welfare_index + C(indig)', data=data2).fit()\n",
    "print(model6.summary())"
   ]
  },
  {
   "cell_type": "markdown",
   "metadata": {
    "tags": [],
    "user_expressions": []
   },
   "source": [
    "* The estimate (i) of the impact is 0.0313 with a sd of 0.006. This could be interpreted as being treated by Progresa increases the enrollment rate by 3.13% for poor households. The standard error represents the variability of our point estimate, in this case it is relatively very small compare to our estimate (about 1/50 estimate), so we could conclude that our point estimate is fairly precise. The p value of at most 0.0004 indicates that we could reject the null that Progresa have no impact. The coefficient of year is -0.0075, it could be interpreted as a household in control group have 0.75% less likelihood of enrolled in college in 1998 compared to 1997, the coefficient of progresa is 0.0075, it could be interpreted as a household have 0.75% more likelihood of enrolled in college in a treatment group of Progresa in 1997 compare to a household in control group in 1997. However, the two latter coefficients correspond to p values larger than 0.05, denoting that their effect is not significant.\n",
    "* After I added control variables, the point estimate of the impact decreased to 0.0309 with the same sd of 0.006. The decrease of estimate could be explained by some of the variation in enrollment rate is explained by the control variables, suggesting mild (since the decrease is small) colinearity between treatment and controls. The lack of change of sd might be due to the decrease of sd that usually happens when adding control variables is countered by the colinearity between some controls and the treatment which would increase sd.\n",
    "* The estimate (i) is exactly the same as our DiD estimate in 2.5, the estimate (ii) is slightly smaller and the reason is possibly due to colinearity between some controls and treatment.\n",
    "* The counterfactual assumption is that holding all control variables constant, the trends in treated and control villages would be the same from 97 to 98 in absence of progresa."
   ]
  },
  {
   "cell_type": "markdown",
   "metadata": {},
   "source": [
    "### 2.7 Spillover effects\n",
    "\n",
    "Thus far, we have focused on the impact of PROGRESA on the school enrollment of poor households. Repeat your analysis in 2.5, instead focusing on (a) the impact of PROGRESA on the school enrollment of non-poor households, and (b) the impact ofo PROGRESA on *other outcomes* of poor households that might plausibly have been affected by the PROGRESA program.\n",
    "* Do you observe any impacts of PROGRESA on the school enrollment of the non-poor?\n",
    "* Regardless of whether you find evidence of spillovers to non-poor, describe one or two reasons why PROGRESA *might* have impacted non-poor households. Give concrete examples based on the context in which PROGRESA was implemented.\n",
    "* Do you observe any impacts of PROGRESA on other aspects of the welfare of poor households? "
   ]
  },
  {
   "cell_type": "code",
   "execution_count": 21,
   "metadata": {
    "tags": []
   },
   "outputs": [
    {
     "name": "stdout",
     "output_type": "stream",
     "text": [
      "                            OLS Regression Results                            \n",
      "==============================================================================\n",
      "Dep. Variable:                     sc   R-squared:                       0.002\n",
      "Model:                            OLS   Adj. R-squared:                  0.002\n",
      "Method:                 Least Squares   F-statistic:                     6.332\n",
      "Date:                Tue, 06 Feb 2024   Prob (F-statistic):           0.000276\n",
      "Time:                        01:23:13   Log-Likelihood:                -5448.5\n",
      "No. Observations:               10425   AIC:                         1.090e+04\n",
      "Df Residuals:                   10421   BIC:                         1.093e+04\n",
      "Df Model:                           3                                         \n",
      "Covariance Type:            nonrobust                                         \n",
      "======================================================================================================\n",
      "                                         coef    std err          t      P>|t|      [0.025      0.975]\n",
      "------------------------------------------------------------------------------------------------------\n",
      "Intercept                              0.7626      0.009     89.682      0.000       0.746       0.779\n",
      "C(progresa)[T.basal]                   0.0327      0.011      2.978      0.003       0.011       0.054\n",
      "C(year)[T.98]                          0.0138      0.013      1.079      0.280      -0.011       0.039\n",
      "C(progresa)[T.basal]:C(year)[T.98]  3.428e-05      0.016      0.002      0.998      -0.032       0.032\n",
      "==============================================================================\n",
      "Omnibus:                     2002.335   Durbin-Watson:                   1.443\n",
      "Prob(Omnibus):                  0.000   Jarque-Bera (JB):             3446.137\n",
      "Skew:                          -1.408   Prob(JB):                         0.00\n",
      "Kurtosis:                       2.994   Cond. No.                         7.36\n",
      "==============================================================================\n",
      "\n",
      "Notes:\n",
      "[1] Standard Errors assume that the covariance matrix of the errors is correctly specified.\n",
      "                            OLS Regression Results                            \n",
      "==============================================================================\n",
      "Dep. Variable:                     sc   R-squared:                       0.283\n",
      "Model:                            OLS   Adj. R-squared:                  0.283\n",
      "Method:                 Least Squares   F-statistic:                     453.6\n",
      "Date:                Tue, 06 Feb 2024   Prob (F-statistic):               0.00\n",
      "Time:                        01:23:13   Log-Likelihood:                -3675.3\n",
      "No. Observations:               10334   AIC:                             7371.\n",
      "Df Residuals:                   10324   BIC:                             7443.\n",
      "Df Model:                           9                                         \n",
      "Covariance Type:            nonrobust                                         \n",
      "======================================================================================================\n",
      "                                         coef    std err          t      P>|t|      [0.025      0.975]\n",
      "------------------------------------------------------------------------------------------------------\n",
      "Intercept                              1.4462      0.030     48.805      0.000       1.388       1.504\n",
      "C(progresa)[T.basal]                   0.0275      0.009      2.945      0.003       0.009       0.046\n",
      "C(year)[T.98]                          0.0387      0.011      3.565      0.000       0.017       0.060\n",
      "C(sex)[T.1.0]                          0.0295      0.007      4.331      0.000       0.016       0.043\n",
      "C(indig)[T.1.0]                        0.0391      0.010      3.849      0.000       0.019       0.059\n",
      "C(progresa)[T.basal]:C(year)[T.98]    -0.0019      0.014     -0.134      0.893      -0.029       0.026\n",
      "age                                   -0.0681      0.001    -59.864      0.000      -0.070      -0.066\n",
      "dist_sec                              -0.0159      0.002     -8.958      0.000      -0.019      -0.012\n",
      "hohedu                                 0.0093      0.001      8.559      0.000       0.007       0.011\n",
      "welfare_index                          0.0001   2.84e-05      3.790      0.000     5.2e-05       0.000\n",
      "==============================================================================\n",
      "Omnibus:                      844.510   Durbin-Watson:                   1.494\n",
      "Prob(Omnibus):                  0.000   Jarque-Bera (JB):              824.786\n",
      "Skew:                          -0.635   Prob(JB):                    7.94e-180\n",
      "Kurtosis:                       2.452   Cond. No.                     7.77e+03\n",
      "==============================================================================\n",
      "\n",
      "Notes:\n",
      "[1] Standard Errors assume that the covariance matrix of the errors is correctly specified.\n",
      "[2] The condition number is large, 7.77e+03. This might indicate that there are\n",
      "strong multicollinearity or other numerical problems.\n",
      "\n",
      "\n",
      "   Variable Name  Coeff of Impact  P values\n",
      "0       dist_sec    -1.060957e-14       1.0\n",
      "1          fam_n    -4.172010e-14       1.0\n",
      "2       min_dist    -1.585398e-13       1.0\n",
      "3       dist_cap    -2.063238e-12       1.0\n",
      "4         hohedu     3.436140e-14       1.0\n",
      "5         hohwag    -8.636647e-12       1.0\n",
      "6  welfare_index     2.154721e-12       1.0\n"
     ]
    }
   ],
   "source": [
    "model7 = smf.ols(formula = 'sc~ C(progresa)*C(year)', data = data[data['poor'] == 'no pobre']).fit()\n",
    "print(model7.summary()) \n",
    "\n",
    "model8 = smf.ols(formula = 'sc~ C(progresa)*C(year) + age + dist_sec + C(sex) + hohedu + welfare_index + C(indig)', data = data[data['poor'] == 'no pobre']).fit()\n",
    "print(model8.summary()) \n",
    "\n",
    "welfare_var = ['dist_sec','fam_n','min_dist','dist_cap','hohedu','hohwag','welfare_index']\n",
    "\n",
    "beta = [smf.ols(formula = f'{var}~C(progresa)*C(year)', data = data[data['poor'] == 'pobre']).fit().params[3] for var in welfare_var]\n",
    "wel_p = [smf.ols(formula = f'{var}~C(progresa)*C(year)', data = data[data['poor'] == 'pobre']).fit().pvalues[3] for var in welfare_var]\n",
    "\n",
    "impacts = pd.DataFrame({\n",
    "    'Variable Name': welfare_var,\n",
    "    'Coeff of Impact': beta,\n",
    "    'P values':wel_p\n",
    "})\n",
    "\n",
    "print('\\n')\n",
    "print(impacts)"
   ]
  },
  {
   "cell_type": "markdown",
   "metadata": {
    "tags": [],
    "user_expressions": []
   },
   "source": [
    "* It seems that Progresa does not have a significant impact on school enrollment of non-poor, base on the regression table from doing multiple regression on school enrollment rate of the non-poor households, our point estimate is very small in magnitude and it's sd is larger than the estimate itself. The p-value is 0.998, suggesting that we fail to reject the null that there is no spillover effects. There is no significant impact of Progresa.(The controlled design also generates a p-val of 0.893, generating the same conclusion)\n",
    "* Consider that Progresa is a direct cash transfer to poor households, the household receiving the fund could use it on their own village and therefore benefit the non-poor households within the village. One example could be the poor households woould spend the Progresa money on rebuilding the village as there were 3 hurricanes happened within September-October of 1997, this act would certainly benefit the non-poor who live within the same village. Another example could be that more people got into college due to Progresa (as illustrated before) means more people with higher education would come back after college and give back to the village, hence benefit the non-poor also. \n",
    "* After doing regression on all possible welfare indicator including dist_sec,fam_n, min_dist, dist_cap, hohedu, hohwag, welfare_index as dependent. I generate a table of coefficient of Progresa impact and corresponding p values. Observing the table, the magnitude of coefficient are all very small and p-values are all very large. I could conclude that there is no significant impact of Progresa on other aspects of welfare of poor households, we fail to reject the null that there is no spillover effects."
   ]
  },
  {
   "cell_type": "markdown",
   "metadata": {},
   "source": [
    "### 2.8 Summary\n",
    "\n",
    "* Based on all the analysis you have undertaken to date, do you believe that Progresa had a causal impact on the enrollment rates of poor households in Mexico? "
   ]
  },
  {
   "cell_type": "markdown",
   "metadata": {
    "tags": [],
    "user_expressions": []
   },
   "source": [
    "Consider that all of the simple difference, regression with control, Did regression with and without control all report a significant positive treatment effect, and the fact that the assignment of Progresa is randomized (there is an experiment conducted); I believe that the Progresa had a positive causal impact on the enrollment rates of poor households in Mexico. While the randomization might not be so perfect as there is difference in baseline and mild colinearity between treatment and controls."
   ]
  }
 ],
 "metadata": {
  "anaconda-cloud": {},
  "jupytext": {
   "formats": "ipynb,py:light"
  },
  "kernelspec": {
   "display_name": "Python 3 (ipykernel)",
   "language": "python",
   "name": "python3"
  },
  "language_info": {
   "codemirror_mode": {
    "name": "ipython",
    "version": 3
   },
   "file_extension": ".py",
   "mimetype": "text/x-python",
   "name": "python",
   "nbconvert_exporter": "python",
   "pygments_lexer": "ipython3",
   "version": "3.11.0"
  }
 },
 "nbformat": 4,
 "nbformat_minor": 4
}
