{
 "cells": [
  {
   "cell_type": "markdown",
   "metadata": {},
   "source": [
    "# Problem Set 3\n",
    "\n",
    "### Before You Start\n",
    "\n",
    "This problem set is fun but challenging. It's going to involve a good amount of debugging and head-scratching, so try to start sooner rather than later!\n",
    "\n",
    "This problem set has three parts:\n",
    "\n",
    "- **Part I**: Experimental Setup\n",
    "- **Part II**: Nearest Neighbor and Cross-Validation\n",
    "- **Part III**: Overfitting in Model Selection and Nested Cross Validation\n",
    "\n",
    "For part I and II we'll consider a regression problem. You should *not* be using any built-in ML libraries for nearest neighbors, distance metrics, or cross-validation -- your mission is to write those algorithms in Python! For these two first parts we will be working with a modified version of the California Housing Dataset that you can download from bcourses (`cal_housing_data_clean.csv`). Part I will be relatively easy; Part II will take more time.\n",
    "\n",
    "For part III we'll consider a classification problem. You'll be able to use Python ML built-in libraries (in particular scikit-learn). We'll not be using the California Housing Dataset but rather synthetic data that you'll generate yourself. \n",
    "\n",
    "Make sure the following libraries load correctly before starting (hit Ctrl-Enter)."
   ]
  },
  {
   "cell_type": "code",
   "execution_count": 19,
   "metadata": {
    "tags": []
   },
   "outputs": [],
   "source": [
    "import IPython\n",
    "import numpy as np\n",
    "import scipy as sp\n",
    "import pandas as pd\n",
    "import matplotlib\n",
    "import sklearn\n",
    "import time"
   ]
  },
  {
   "cell_type": "code",
   "execution_count": 20,
   "metadata": {
    "tags": []
   },
   "outputs": [],
   "source": [
    "%matplotlib inline  \n",
    "import matplotlib.pyplot as plt  "
   ]
  },
  {
   "cell_type": "markdown",
   "metadata": {},
   "source": [
    "---\n",
    "\n",
    "## Introduction to the assignment\n",
    "\n",
    "For this assignment, you will be using a version of the [California Housing Prices Dataset](https://scikit-learn.org/stable/datasets/real_world.html#california-housing-dataset) with additional information. Use the following commands to load the information in the csv file provided with the assignment in bcourses (`cal_housing_data_clean.csv`). Take some time to explore the data. "
   ]
  },
  {
   "cell_type": "code",
   "execution_count": 30,
   "metadata": {
    "tags": []
   },
   "outputs": [
    {
     "data": {
      "text/plain": [
       "(20640, 9)"
      ]
     },
     "execution_count": 30,
     "metadata": {},
     "output_type": "execute_result"
    }
   ],
   "source": [
    "# load Cal data set\n",
    "cal_df = pd.read_csv('cal_housing_data_clean.csv')\n",
    "features = ['MedInc','HouseAge','AveRooms','AveBedrms','Population','DistCoast','Inland']\n",
    "target = 'MedHouseVal'\n",
    "\n",
    "cal_df.head()\n",
    "cal_df.shape"
   ]
  },
  {
   "cell_type": "markdown",
   "metadata": {},
   "source": [
    "---\n",
    "\n",
    "# Part I: Experimental Setup\n",
    "\n",
    "The goal of the next few sections is to design an experiment to predict the median home value for census block groups.\n",
    "Before beginning the \"real\" work, refamiliarize yourself with the dataset."
   ]
  },
  {
   "cell_type": "markdown",
   "metadata": {},
   "source": [
    "### 1.1 Begin by writing a function to compute the Root Mean Squared Error for a list of numbers\n",
    "\n",
    "You can find the sqrt function in the Numpy package. Furthermore the details of RMSE can be found on [Wikipedia](http://en.wikipedia.org/wiki/Root-mean-square_deviation). Do not use a built-in function  to compute RMSE, other than numpy functions like `sqrt` and if needed, `sum` or other relevant ones."
   ]
  },
  {
   "cell_type": "code",
   "execution_count": 22,
   "metadata": {
    "tags": []
   },
   "outputs": [],
   "source": [
    "\"\"\"\n",
    "Function\n",
    "--------\n",
    "compute_rmse\n",
    "\n",
    "Given two arrays, one of actual values and one of predicted values,\n",
    "compute the Root Mean Squared Error\n",
    "\n",
    "Parameters\n",
    "----------\n",
    "y_hat : array\n",
    "    numpy array of numerical values corresponding to predictions for each of the N observations\n",
    "\n",
    "y : array\n",
    "    numpy array of numerical values corresponding to the actual values for each of the N observations\n",
    "\n",
    "Returns\n",
    "-------\n",
    "rmse : float\n",
    "    Root Mean Squared Error of the prediction (round to 2 decimal places)\n",
    "\n",
    "Example\n",
    "-------\n",
    ">>> print(compute_rmse((4,6,3),(2,1,4)))\n",
    "3.16\n",
    "\"\"\"\n",
    "def compute_rmse(y_hat, y):\n",
    "    return round(np.sqrt(np.sum([x**2 for x in np.array(y_hat)-np.array(y)])/len(y)),2)\n"
   ]
  },
  {
   "cell_type": "code",
   "execution_count": 23,
   "metadata": {
    "tags": []
   },
   "outputs": [
    {
     "name": "stdout",
     "output_type": "stream",
     "text": [
      "3.16\n"
     ]
    }
   ],
   "source": [
    "print(compute_rmse((4,6,3),(2,1,4)))"
   ]
  },
  {
   "cell_type": "markdown",
   "metadata": {},
   "source": [
    "### 1.2 Divide your data into training and testing datasets\n",
    "\n",
    "Randomly select 75% of the data and put this in a training dataset (call this \"cal_df_train\"), and place the remaining 25% in a testing dataset (call this \"cal_df_test\"). Do not use built-in functions.\n",
    "\n",
    "To perform any randomized operation, only use functions in the *numpy library (np.random)*. Do not use other packages for random functions."
   ]
  },
  {
   "cell_type": "code",
   "execution_count": 25,
   "metadata": {
    "tags": []
   },
   "outputs": [
    {
     "data": {
      "text/html": [
       "<div>\n",
       "<style scoped>\n",
       "    .dataframe tbody tr th:only-of-type {\n",
       "        vertical-align: middle;\n",
       "    }\n",
       "\n",
       "    .dataframe tbody tr th {\n",
       "        vertical-align: top;\n",
       "    }\n",
       "\n",
       "    .dataframe thead th {\n",
       "        text-align: right;\n",
       "    }\n",
       "</style>\n",
       "<table border=\"1\" class=\"dataframe\">\n",
       "  <thead>\n",
       "    <tr style=\"text-align: right;\">\n",
       "      <th></th>\n",
       "      <th>MedInc</th>\n",
       "      <th>HouseAge</th>\n",
       "      <th>AveRooms</th>\n",
       "      <th>AveBedrms</th>\n",
       "      <th>Population</th>\n",
       "      <th>AveOccup</th>\n",
       "      <th>DistCoast</th>\n",
       "      <th>Inland</th>\n",
       "      <th>MedHouseVal</th>\n",
       "    </tr>\n",
       "  </thead>\n",
       "  <tbody>\n",
       "    <tr>\n",
       "      <th>1425</th>\n",
       "      <td>6.6772</td>\n",
       "      <td>13</td>\n",
       "      <td>7.377072</td>\n",
       "      <td>1.067680</td>\n",
       "      <td>2288</td>\n",
       "      <td>3.160221</td>\n",
       "      <td>79883.439580</td>\n",
       "      <td>1</td>\n",
       "      <td>1.85600</td>\n",
       "    </tr>\n",
       "    <tr>\n",
       "      <th>639</th>\n",
       "      <td>8.4960</td>\n",
       "      <td>34</td>\n",
       "      <td>7.825971</td>\n",
       "      <td>1.050870</td>\n",
       "      <td>1817</td>\n",
       "      <td>2.432396</td>\n",
       "      <td>1827.026948</td>\n",
       "      <td>0</td>\n",
       "      <td>5.00001</td>\n",
       "    </tr>\n",
       "    <tr>\n",
       "      <th>3050</th>\n",
       "      <td>1.6505</td>\n",
       "      <td>50</td>\n",
       "      <td>3.838765</td>\n",
       "      <td>1.154374</td>\n",
       "      <td>2247</td>\n",
       "      <td>3.854202</td>\n",
       "      <td>19359.211980</td>\n",
       "      <td>0</td>\n",
       "      <td>1.25000</td>\n",
       "    </tr>\n",
       "    <tr>\n",
       "      <th>19925</th>\n",
       "      <td>2.5875</td>\n",
       "      <td>44</td>\n",
       "      <td>4.665468</td>\n",
       "      <td>1.104317</td>\n",
       "      <td>776</td>\n",
       "      <td>2.791367</td>\n",
       "      <td>119120.744600</td>\n",
       "      <td>1</td>\n",
       "      <td>0.68900</td>\n",
       "    </tr>\n",
       "    <tr>\n",
       "      <th>18701</th>\n",
       "      <td>1.3654</td>\n",
       "      <td>47</td>\n",
       "      <td>5.600000</td>\n",
       "      <td>1.289474</td>\n",
       "      <td>603</td>\n",
       "      <td>3.173684</td>\n",
       "      <td>158673.513000</td>\n",
       "      <td>1</td>\n",
       "      <td>0.57900</td>\n",
       "    </tr>\n",
       "    <tr>\n",
       "      <th>...</th>\n",
       "      <td>...</td>\n",
       "      <td>...</td>\n",
       "      <td>...</td>\n",
       "      <td>...</td>\n",
       "      <td>...</td>\n",
       "      <td>...</td>\n",
       "      <td>...</td>\n",
       "      <td>...</td>\n",
       "      <td>...</td>\n",
       "    </tr>\n",
       "    <tr>\n",
       "      <th>5959</th>\n",
       "      <td>5.6885</td>\n",
       "      <td>17</td>\n",
       "      <td>6.909924</td>\n",
       "      <td>1.094656</td>\n",
       "      <td>2088</td>\n",
       "      <td>3.187786</td>\n",
       "      <td>8438.231223</td>\n",
       "      <td>0</td>\n",
       "      <td>2.68200</td>\n",
       "    </tr>\n",
       "    <tr>\n",
       "      <th>9792</th>\n",
       "      <td>8.7382</td>\n",
       "      <td>34</td>\n",
       "      <td>6.442149</td>\n",
       "      <td>1.004132</td>\n",
       "      <td>600</td>\n",
       "      <td>2.479339</td>\n",
       "      <td>16308.686120</td>\n",
       "      <td>0</td>\n",
       "      <td>5.00001</td>\n",
       "    </tr>\n",
       "    <tr>\n",
       "      <th>14229</th>\n",
       "      <td>4.5272</td>\n",
       "      <td>18</td>\n",
       "      <td>6.194323</td>\n",
       "      <td>1.139738</td>\n",
       "      <td>1454</td>\n",
       "      <td>3.174672</td>\n",
       "      <td>9359.909379</td>\n",
       "      <td>0</td>\n",
       "      <td>2.21000</td>\n",
       "    </tr>\n",
       "    <tr>\n",
       "      <th>9641</th>\n",
       "      <td>1.9088</td>\n",
       "      <td>20</td>\n",
       "      <td>4.422713</td>\n",
       "      <td>0.905363</td>\n",
       "      <td>1104</td>\n",
       "      <td>3.482650</td>\n",
       "      <td>37632.824900</td>\n",
       "      <td>1</td>\n",
       "      <td>0.63700</td>\n",
       "    </tr>\n",
       "    <tr>\n",
       "      <th>11726</th>\n",
       "      <td>5.8692</td>\n",
       "      <td>52</td>\n",
       "      <td>7.125000</td>\n",
       "      <td>1.073171</td>\n",
       "      <td>981</td>\n",
       "      <td>2.990854</td>\n",
       "      <td>38092.742320</td>\n",
       "      <td>0</td>\n",
       "      <td>4.90400</td>\n",
       "    </tr>\n",
       "  </tbody>\n",
       "</table>\n",
       "<p>15480 rows × 9 columns</p>\n",
       "</div>"
      ],
      "text/plain": [
       "       MedInc  HouseAge  AveRooms  AveBedrms  Population  AveOccup  \\\n",
       "1425   6.6772        13  7.377072   1.067680        2288  3.160221   \n",
       "639    8.4960        34  7.825971   1.050870        1817  2.432396   \n",
       "3050   1.6505        50  3.838765   1.154374        2247  3.854202   \n",
       "19925  2.5875        44  4.665468   1.104317         776  2.791367   \n",
       "18701  1.3654        47  5.600000   1.289474         603  3.173684   \n",
       "...       ...       ...       ...        ...         ...       ...   \n",
       "5959   5.6885        17  6.909924   1.094656        2088  3.187786   \n",
       "9792   8.7382        34  6.442149   1.004132         600  2.479339   \n",
       "14229  4.5272        18  6.194323   1.139738        1454  3.174672   \n",
       "9641   1.9088        20  4.422713   0.905363        1104  3.482650   \n",
       "11726  5.8692        52  7.125000   1.073171         981  2.990854   \n",
       "\n",
       "           DistCoast  Inland  MedHouseVal  \n",
       "1425    79883.439580       1      1.85600  \n",
       "639      1827.026948       0      5.00001  \n",
       "3050    19359.211980       0      1.25000  \n",
       "19925  119120.744600       1      0.68900  \n",
       "18701  158673.513000       1      0.57900  \n",
       "...              ...     ...          ...  \n",
       "5959     8438.231223       0      2.68200  \n",
       "9792    16308.686120       0      5.00001  \n",
       "14229    9359.909379       0      2.21000  \n",
       "9641    37632.824900       1      0.63700  \n",
       "11726   38092.742320       0      4.90400  \n",
       "\n",
       "[15480 rows x 9 columns]"
      ]
     },
     "execution_count": 25,
     "metadata": {},
     "output_type": "execute_result"
    }
   ],
   "source": [
    "# leave the following line untouched, it will help ensure that your \"random\" split is the same \"random\" split used by the rest of the class\n",
    "np.random.seed(seed=1948)\n",
    "\n",
    "\n",
    "train_perc = .75\n",
    "train_num = int(cal_df.shape[0]*train_perc)\n",
    "\n",
    "ids = np.arange(0,cal_df.shape[0],1)\n",
    "np.random.shuffle(ids)\n",
    "\n",
    "cal_df_train = cal_df.iloc[ids][:train_num]\n",
    "cal_df_test = cal_df.iloc[ids][train_num:]\n",
    "\n",
    "cal_df_train"
   ]
  },
  {
   "cell_type": "markdown",
   "metadata": {},
   "source": [
    "### 1.3 Use a baseline for prediction, and compute RMSE \n",
    "\n",
    "Let's start by creating a very bad baseline model that predicts median house values as the average of `MedHouseVal`.\n",
    "\n",
    "Specifically, create a model that predicts, for every observation X_i, the median home value as the average of the median home values of block groups in the **training set**.\n",
    "\n",
    "Once the model is built, do the following:\n",
    "\n",
    "1. Report the RMSE of the training set and report it.\n",
    "2. Report the RMSE of the test data set (but use the model you trained on the training set!).\n",
    "3. How does RMSE compare for training vs. testing datasets? Is this what you expected, and why?\n",
    "4. Add code to your function to measure the running time of your algorithm. How long does it take to compute the predicted values for the test data?\n",
    "5. Create a scatter plot that shows the true value of each instance on the x-axis and the predicted value of each instance on the y-axis. Color the training instances in blue and the test instances in gold. Make sure to label your axes appropriately, and add a legend to your figure."
   ]
  },
  {
   "cell_type": "code",
   "execution_count": null,
   "metadata": {},
   "outputs": [],
   "source": [
    "# your code here"
   ]
  },
  {
   "cell_type": "markdown",
   "metadata": {},
   "source": [
    "*your answer here*"
   ]
  },
  {
   "cell_type": "markdown",
   "metadata": {},
   "source": [
    "### 1.4 Use another baseline for prediction, and compute RMSE [extra-credit]\n",
    "\n",
    "Now consider a baseline model that predicts median house values as the averages of `MedHouseVal` based on whether the census block is adjacent to the coast or inland (note that the `Inland` feature is already computed and ready for you).\n",
    "\n",
    "Specifically, create a model that predicts, for every observation X_i, the median home value as the average of the median home values of block groups in the **training set** that have the same adjacency value.\n",
    "\n",
    "For example, for an input observation where `Inland==1`, the model should predict the `MedHouseVal` as the average of all `MedHouseVal` values in the training set that also have `Inland==1`.\n",
    "\n",
    "Once the model is built, do the following:\n",
    "\n",
    "1. Compute the RMSE of the training set.\n",
    "2. Now compute the RMSE of the test data set (but use the model you trained on the training set!).\n",
    "3. How does RMSE compare for training vs. testing datasets? Is this what you expected, and why?\n",
    "4. Add code to your function to measure the running time of your algorithm. How long does it take to compute the predicted values for the test data?\n",
    "5. Create a scatter plot that shows the true value of each instance on the x-axis and the predicted value of each instance on the y-axis. Color the training instances in blue and the test instances in gold. Make sure to label your axes appropriately, and add a legend to your figure to make clear which dots are which.\n",
    "6. Compare this results to those obtained in 1.3. Is coast adjacency improving the predictions? \n",
    "\n",
    "*Note:* The `groupby` operation might come handy here."
   ]
  },
  {
   "cell_type": "code",
   "execution_count": null,
   "metadata": {
    "collapsed": true,
    "jupyter": {
     "outputs_hidden": true
    }
   },
   "outputs": [],
   "source": [
    "# your code here"
   ]
  },
  {
   "cell_type": "markdown",
   "metadata": {},
   "source": [
    "*your answer here*"
   ]
  },
  {
   "cell_type": "markdown",
   "metadata": {},
   "source": [
    "---\n",
    "\n",
    "# Part II: Nearest Neighbors and Cross-Validation\n",
    "Let's try and build a machine learning algorithm to beat the \"Average Values\" baselines that you computed above. Your next task is to implement a basic nearest neighbor algorithm from scratch. "
   ]
  },
  {
   "cell_type": "markdown",
   "metadata": {},
   "source": [
    "### 2.1 Nearest Neighbors: Normalization\n",
    "\n",
    "Create normalized analogues of all the features in both the training and test datasets. Recall that this involves substracting the **training** mean and dividing by the **training** standard deviation. \n",
    "\n",
    "Include the normalized features as additional columns in the train an test dataframes and call them \n",
    "`MedIncNorm, HouseAgeNorm, AveRoomsNorm, AveBedrmsNorm, PopulationNorm, AveOccupNorm, DistCoastNorm and InlandNorm` respectively."
   ]
  },
  {
   "cell_type": "code",
   "execution_count": null,
   "metadata": {},
   "outputs": [],
   "source": [
    "# your code here"
   ]
  },
  {
   "cell_type": "markdown",
   "metadata": {},
   "source": [
    "### 2.2 Basic Nearest Neighbor algorithm\n",
    "\n",
    "Use your training data to \"fit\" your model that predicts `MedHouseVal` from `MedIncNorm`, `HouseAgeNorm` and `AveRoomsNorm`, although as you know, with Nearest Neighbors there is no real training, you just need to keep your training data in memory.  Write a function that predicts the median home value using the nearest neighbor algorithm we discussed in class.  Since this is a small dataset, you can simply compare your test instance to every instance in the training set, and return the `MedHouseVal` value of the closest training instance. Have your function take L as an input, where L is an integer >= 1 representing the norm choice. Use the Euclidean distance (L=2) for all questions henceforth unless explicitly stated otherwise.\n",
    "\n",
    "Make sure to do the following - \n",
    "1. Use your algorithm to predict the median home value of every instance in the test set. Report the RMSE (\"test RMSE\")\n",
    "2. Use your algorithm to predict the median home value of every instance in the training set and report the training RMSE.\n",
    "3. Create a scatter plot that shows the true value of each instance on the x-axis and the predicted value of each instance on the y-axis.\n",
    "4. Report an estimate of the total time taken by your code to predict the nearest neighbors for all the values in the test data set.\n",
    "5. How does the performance (test RMSE and total runtime) of your nearest neighbors algorithm compare to the baseline in part 1.4? Explain the\n",
    "\n",
    "**Note:** Runtime should not exceed a couple of minutes. If its taking longer then we strongly suggest you go back to your code and make it more efficient. "
   ]
  },
  {
   "cell_type": "code",
   "execution_count": null,
   "metadata": {
    "collapsed": true,
    "jupyter": {
     "outputs_hidden": true
    }
   },
   "outputs": [],
   "source": [
    "# your code here"
   ]
  },
  {
   "cell_type": "markdown",
   "metadata": {},
   "source": [
    "*your answer here*"
   ]
  },
  {
   "cell_type": "markdown",
   "metadata": {},
   "source": [
    "### 2.3 Optimization\n",
    "\n",
    "Try to increase the performance of your nearest neighbor algorithm by adding features that you think might be relevant, and by using different values of L in the distance function.  Try a model that uses a different set of 2 features, then try at least one model that uses more than 4 features, then try using a different value of L.  If you're having fun, try a few different combinations of features and L! Use the test set to report the RMSE values.\n",
    "\n",
    "What combination of features and distance function provide the lowest RMSE on the test set?  Do your decisions affect the running time of the algorithm?\n",
    "\n",
    "**Note:** For this and all subsequent questions, you should use normalized features. "
   ]
  },
  {
   "cell_type": "code",
   "execution_count": null,
   "metadata": {},
   "outputs": [],
   "source": [
    "# your code here"
   ]
  },
  {
   "cell_type": "markdown",
   "metadata": {},
   "source": [
    "*your answer here*"
   ]
  },
  {
   "cell_type": "markdown",
   "metadata": {},
   "source": [
    "### 2.4 K-nearest neighbors algorithm\n",
    "\n",
    "Now, implement the K-nearest neighbors algorithm and repeat the analysis in 2.1 by using 5 neighbors (`K=5`). The function(s) you write here will be used several more times in this problem set, so do your best to write efficient code! Make sure to do the following:\n",
    "1. Use your algorithm to predict the median home value of every instance in the test set. Report the RMSE (\"test RMSE\")\n",
    "2. Use your algorithm to predict the median home value of every instance in the training set and report the training RMSE.\n",
    "3. Create a scatter plot that shows the true value of each instance on the x-axis and the predicted value of each instance on the y-axis.\n",
    "4. Report an estimate of the total time taken by your code to predict the nearest neighbors for all the values in the test data set.\n",
    "5. How does the performance (test RMSE and total runtime) of your nearest neighbors algorithm compare to the baseline in part 1.4?\n",
    "\n",
    "**Note:** Runtime should not exceed a couple of minutes. If its taking longer then we strongly suggest you go back to your code and make it more efficient. "
   ]
  },
  {
   "cell_type": "code",
   "execution_count": null,
   "metadata": {},
   "outputs": [],
   "source": [
    "# your code here"
   ]
  },
  {
   "cell_type": "markdown",
   "metadata": {},
   "source": [
    "*your answer here*"
   ]
  },
  {
   "cell_type": "markdown",
   "metadata": {},
   "source": [
    "### 2.5 Cross-Validation\n",
    "\n",
    "How can we choose K without overfitting? As discussed during lecture time, one possible solution is to use [k-fold cross-validation][1] on the training sample.  Here you must implement a simple k-fold cross-validation algorithm yourself.  The function(s) you write here will be used several more times in this problem set, so do your best to write efficient code! \n",
    "\n",
    "Use 20-fold cross-validation and report the average RMSE for your K-nearest neighbors model using Euclidean distance with the same set of features used in 2.3 (`MedIncNorm, HouseAgeNorm and AveRoomsNorm`) and 5 neighbors (`K=5`)  as well as the total running time for the full run of 20 folds.  \n",
    "\n",
    "In other words, randomly divide your training dataset (created in 1.2) into 20 equally-sized samples. For each of the 20 iterations (the \"folds\"), use 19 samples as \"training data\" (even though there is no training in k-NN!), and the remaining 1 sample for validation.  Compute the RMSE of that particular validation set, then move on to the next iteration.  \n",
    "\n",
    " - Report the average cross-validated RMSE across the 20 iterations and compare to the result you obtained in 2.3. What do you observe?\n",
    " - Report the runtime of your algorithm.How does it compare to your previous results?\n",
    "\n",
    "[1]: http://en.wikipedia.org/wiki/Cross-validation_(statistics)\n",
    "[2]: http://scikit-learn.org/stable/modules/cross_validation.html#cross-validation\n",
    "\n",
    "**Note 1:** Runtime should not exceed a couple of minutes. If its taking longer then we strongly suggest you go back to your code and make it more efficient. \n",
    "\n",
    "**Note 2**: The sklearn package has a built-in [K-fold][2] iterator -- you should *not* be invoking that or any related algorithms in this section of the problem set.\n",
    "\n",
    "**Note 3:** To perform any randomized operation, only use functions in the *numpy library (np.random)*. Do not use other packages for random functions."
   ]
  },
  {
   "cell_type": "code",
   "execution_count": null,
   "metadata": {
    "collapsed": true,
    "jupyter": {
     "outputs_hidden": true
    }
   },
   "outputs": [],
   "source": [
    "# your code here"
   ]
  },
  {
   "cell_type": "markdown",
   "metadata": {},
   "source": [
    "*your anwer here*"
   ]
  },
  {
   "cell_type": "markdown",
   "metadata": {},
   "source": [
    "### 2.6 Using cross validation to find the optimal value for K\n",
    "\n",
    "Compute the cross-validated RMSE for values of K between 1 and 25 using 10-fold cross-validation and L2 normalization.  Use the following features in your model: `MedIncNorm, HouseAgeNorm and AveRoomsNorm` .  Create a graph that shows how cross-validated RMSE changes as K increases from 1 to 25.  Label your axes, and summarize what you see.  What do you think is a reasonable choice of K for this model?\n",
    "\n",
    "Finally, \"train\" a K-nearest neighbor model using the value of K that minimized the cross-validated RMSE and report the test RMSE. (Continue to use L2 normalization and the same set of features). How does the test RMSE compare to the cross-validated RMSE, and is this what you expected? \n",
    "\n",
    "**Note:** Runtime should not exceed ~30 min. If its taking longer then we strongly suggest you go back to your code and make it more efficient. "
   ]
  },
  {
   "cell_type": "code",
   "execution_count": null,
   "metadata": {
    "collapsed": true,
    "jupyter": {
     "outputs_hidden": true
    }
   },
   "outputs": [],
   "source": [
    "# your code here"
   ]
  },
  {
   "cell_type": "markdown",
   "metadata": {},
   "source": [
    "*your answer here*"
   ]
  },
  {
   "cell_type": "markdown",
   "metadata": {},
   "source": [
    "---\n",
    "\n",
    "# Part III: Overfitting in Model Selection and Nested Cross Validation \n"
   ]
  },
  {
   "cell_type": "markdown",
   "metadata": {},
   "source": [
    "In this last part of the problem set, we will examine why overfitting is a serious concern when estimating hyperparameters and how to address it. \n",
    "\n",
    "**For this part of the problem set you are allowed to use machine learning libraries. We don't expect you to use your own algorithms developed in part 2.** We strongly suggest that you use the following libraries and resources, but feel free to choose your favorite Python ML libraries."
   ]
  },
  {
   "cell_type": "code",
   "execution_count": null,
   "metadata": {},
   "outputs": [],
   "source": [
    "from sklearn.model_selection import GridSearchCV, KFold, cross_val_score\n",
    "from sklearn.neighbors import KNeighborsClassifier\n",
    "from sklearn.metrics import roc_auc_score\n",
    "import joblib"
   ]
  },
  {
   "cell_type": "markdown",
   "metadata": {},
   "source": [
    "For this part of the problem set we will no longer be using the California Housing Dataset. Instead, we will generate our own synthetic data. The advantage of doing so is that we get to choose the data generating process. We will use the knowledge about the data generating process to test the robustness of different approaches to estimating out-of-sample performance.\n",
    "\n",
    "We will attempt the following classification problem: predict a binary response variable $y \\sim Bernoulli(p=1/2)$ from a set of independent features $X=[x_{1},...,x_{J}]$ where $x_{j} \\sim Unif(a=0,b=1)$, $1 \\leq j \\leq J$. \n",
    "\n",
    "You can use the following function to generate samples from this distribution."
   ]
  },
  {
   "cell_type": "code",
   "execution_count": null,
   "metadata": {},
   "outputs": [],
   "source": [
    "def generate_random_sample(nobs,J):\n",
    "    X = pd.DataFrame(np.random.random_sample(size=(nobs, J)), columns=[f'feature_{x}' for x in range(J)])\n",
    "    y = np.random.binomial(n=1,p=1/2,size=nobs)\n",
    "    return X,y\n",
    "\n",
    "X_train,y_train = generate_random_sample(nobs=2*10**3,J=100)"
   ]
  },
  {
   "cell_type": "markdown",
   "metadata": {},
   "source": [
    "### 3.1 Out-of-sample performance\n",
    "\n",
    "We are going to be using the area under the ROC curve (AUC-ROC) as the evaluation score. What kind of out-of-sample performance would you expect from classification models trained and tested on this data? Test whether your intuition is correct by carrying out the following iterative procedure:\n",
    "\n",
    "1. For each iteration in 1,2,3,...,50:\n",
    "    * Generate a training sample containing 2,000 observations and J=100 features. Likewise, generate a test sample containing 200 observations and J=100 features. \n",
    "    * Train some K-nearest neighbors model on the training sample with some arbitrary choice of K (no need to cross validate the choice of K or put any work into it, we'll get to that later on).\n",
    "    * Evaluate the AUC-ROC on the test set.\n",
    "2. Plot a histogram of the test AUC-ROC scores.\n",
    "3. Report the average of the test AUC-ROC scores."
   ]
  },
  {
   "cell_type": "code",
   "execution_count": null,
   "metadata": {},
   "outputs": [],
   "source": [
    "# your code here"
   ]
  },
  {
   "cell_type": "markdown",
   "metadata": {},
   "source": [
    "*your answer here*"
   ]
  },
  {
   "cell_type": "markdown",
   "metadata": {},
   "source": [
    "### Fix a sample"
   ]
  },
  {
   "cell_type": "markdown",
   "metadata": {},
   "source": [
    "In real life settings we wouldn't be able to draw test and train samples at will. For the rest of the pset (3.2-3.6) we will fix a training and test sample:"
   ]
  },
  {
   "cell_type": "code",
   "execution_count": null,
   "metadata": {},
   "outputs": [],
   "source": [
    "X_train,y_train = generate_random_sample(nobs=2*10**3,J=100)\n",
    "X_test,y_test = generate_random_sample(nobs=2*10**2,J=100)"
   ]
  },
  {
   "cell_type": "markdown",
   "metadata": {},
   "source": [
    "### 3.2 k-fold cross-validation \n",
    "Use 10-fold cross-validation on the train sample to find the optimal K and report the hyperparameter value. Report also the average of the cross validated scores for the optimal hyperparameter value. "
   ]
  },
  {
   "cell_type": "code",
   "execution_count": null,
   "metadata": {},
   "outputs": [],
   "source": [
    "# your code here"
   ]
  },
  {
   "cell_type": "markdown",
   "metadata": {},
   "source": [
    "### 3.3 Nested cross-validation\n",
    "\n",
    "Use nested cross validation ([3],[4],[5],[6]) on the training sample. In the outer loop you should be estimating model performance and in the inner loop you should be doing regular k-fold cross validation to find the optimal K. Use 10 folds for the inner cv and 3 folds for the outer cv. Report the average of the cross-validated scores of the outer loop.\n",
    "\n",
    "[3]: https://scikit-learn.org/stable/auto_examples/model_selection/plot_nested_cross_validation_iris.html#sphx-glr-auto-examples-model-selection-plot-nested-cross-validation-iris-py\n",
    "[4]: https://inria.github.io/scikit-learn-mooc/python_scripts/cross_validation_nested.html#:~:text=As%20a%20conclusion%2C%20when%20optimizing,validation%20are%20often%20overly%20optimistic.\n",
    "[5]: https://stats.stackexchange.com/questions/65128/nested-cross-validation-for-model-selection/65156#65156\n",
    "[6]: https://stats.stackexchange.com/questions/232897/how-to-build-the-final-model-and-tune-probability-threshold-after-nested-cross-v/233027#233027"
   ]
  },
  {
   "cell_type": "code",
   "execution_count": null,
   "metadata": {},
   "outputs": [],
   "source": [
    "# your code here"
   ]
  },
  {
   "cell_type": "markdown",
   "metadata": {},
   "source": [
    "### 3.4 Take stock of the results so far\n",
    "\n",
    "Based on the results of 3.1, 3.2 and 3.3, what can you say about estimating out-of-sample performance? Is the average of the cross-validated scores a good estimator? How about the average of the nested cross-validated scores? Are they underestimating or overestimating true out-of-sample performance?"
   ]
  },
  {
   "cell_type": "markdown",
   "metadata": {},
   "source": [
    "*your answer here*"
   ]
  },
  {
   "cell_type": "markdown",
   "metadata": {},
   "source": [
    "### 3.5 Comparing k-fold and nested cross-validation [extra-credit]\n",
    "\n",
    "We would like to better assess the difference between the k-fold and nested cross-validation scores and make sure that the results we observed in 3.2 and 3.3 are not a fluke. To do this, repeat both experiments 50 times. In each iteration, pass a different value for the \"random_state\" parameter in the KFold function to ensure that there is variation in the fold splitting. \n",
    "\n",
    "In a single figure, plot two histograms. One showing the distribution of the k-fold scores, another showing the distribution of the nested scores. Use gold for the color of the objects related to the nested scores and blue for the color of the objects related to the k-fold scores. \n",
    "\n",
    "**Note 1**: you should NOT be generating a new sample -- continue working with the dataset fixed ahead of question 3.2.\n",
    "\n",
    "**Note 2**: Runtime should not exceed 30 min. If its taking longer then we strongly suggest you go back to your code and make it more efficient."
   ]
  },
  {
   "cell_type": "code",
   "execution_count": null,
   "metadata": {},
   "outputs": [],
   "source": [
    "# your code here"
   ]
  },
  {
   "cell_type": "markdown",
   "metadata": {},
   "source": [
    "### 3.6 Conclusion [extra-credit]\n",
    "\n",
    "Based on the figure from 3.5, would you adjust your answer to question 3.4? In a couple of sentences, explain why overfitting can arise when doing model selection, and why nested cross-validation is a useful tool in preventing it. "
   ]
  },
  {
   "cell_type": "markdown",
   "metadata": {},
   "source": [
    "*your answer here*"
   ]
  }
 ],
 "metadata": {
  "jupytext": {
   "formats": "ipynb,py:light"
  },
  "kernelspec": {
   "display_name": "Python 3 (ipykernel)",
   "language": "python",
   "name": "python3"
  },
  "language_info": {
   "codemirror_mode": {
    "name": "ipython",
    "version": 3
   },
   "file_extension": ".py",
   "mimetype": "text/x-python",
   "name": "python",
   "nbconvert_exporter": "python",
   "pygments_lexer": "ipython3",
   "version": "3.11.0"
  }
 },
 "nbformat": 4,
 "nbformat_minor": 4
}
